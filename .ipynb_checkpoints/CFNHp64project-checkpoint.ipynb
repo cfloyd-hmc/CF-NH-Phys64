{
 "cells": [
  {
   "cell_type": "code",
   "execution_count": 1,
   "id": "40bb7160",
   "metadata": {
    "tags": []
   },
   "outputs": [],
   "source": [
    "%matplotlib widget\n",
    "import numpy as np\n",
    "import matplotlib.pyplot as plt\n",
    "from matplotlib.animation import FuncAnimation\n",
    "import itertools\n",
    "from functools import total_ordering\n",
    "from numpy.random import default_rng\n",
    "\n",
    "COUL_FACTOR = 8.988e9 #prefactor in numberator of coulomb force"
   ]
  },
  {
   "cell_type": "code",
   "execution_count": 3,
   "id": "2555dd27",
   "metadata": {
    "tags": []
   },
   "outputs": [
    {
     "ename": "NameError",
     "evalue": "name 'self' is not defined",
     "output_type": "error",
     "traceback": [
      "\u001b[0;31m---------------------------------------------------------------------------\u001b[0m",
      "\u001b[0;31mNameError\u001b[0m                                 Traceback (most recent call last)",
      "\u001b[0;32m<ipython-input-3-c91225494357>\u001b[0m in \u001b[0;36m<module>\u001b[0;34m\u001b[0m\n\u001b[0;32m----> 1\u001b[0;31m \u001b[0;32mfrom\u001b[0m \u001b[0mParticleSim\u001b[0m \u001b[0;32mimport\u001b[0m \u001b[0mDisk\u001b[0m\u001b[0;34m\u001b[0m\u001b[0;34m\u001b[0m\u001b[0m\n\u001b[0m\u001b[1;32m      2\u001b[0m \u001b[0;32mfrom\u001b[0m \u001b[0mParticleSim\u001b[0m \u001b[0;32mimport\u001b[0m \u001b[0mExpt\u001b[0m\u001b[0;34m\u001b[0m\u001b[0;34m\u001b[0m\u001b[0m\n",
      "\u001b[0;32m~/Desktop/coding/phys64 project/ParticleSim.py\u001b[0m in \u001b[0;36m<module>\u001b[0;34m\u001b[0m\n\u001b[1;32m      2\u001b[0m \u001b[0;34m\u001b[0m\u001b[0m\n\u001b[1;32m      3\u001b[0m \u001b[0;34m@\u001b[0m\u001b[0mtotal_ordering\u001b[0m \u001b[0;31m#allows us to only implement lt and eq, imply gt, etc.\u001b[0m\u001b[0;34m\u001b[0m\u001b[0;34m\u001b[0m\u001b[0m\n\u001b[0;32m----> 4\u001b[0;31m \u001b[0;32mclass\u001b[0m \u001b[0mDisk\u001b[0m\u001b[0;34m:\u001b[0m\u001b[0;34m\u001b[0m\u001b[0;34m\u001b[0m\u001b[0m\n\u001b[0m\u001b[1;32m      5\u001b[0m     \u001b[0mself\u001b[0m\u001b[0;34m.\u001b[0m\u001b[0mCOUL_FACTOR\u001b[0m \u001b[0;34m=\u001b[0m \u001b[0;36m8.988e9\u001b[0m\u001b[0;34m\u001b[0m\u001b[0;34m\u001b[0m\u001b[0m\n\u001b[1;32m      6\u001b[0m     def __init__(self, x:np.ndarray, v:np.ndarray, mass:float=3, \n",
      "\u001b[0;32m~/Desktop/coding/phys64 project/ParticleSim.py\u001b[0m in \u001b[0;36mDisk\u001b[0;34m()\u001b[0m\n\u001b[1;32m      3\u001b[0m \u001b[0;34m@\u001b[0m\u001b[0mtotal_ordering\u001b[0m \u001b[0;31m#allows us to only implement lt and eq, imply gt, etc.\u001b[0m\u001b[0;34m\u001b[0m\u001b[0;34m\u001b[0m\u001b[0m\n\u001b[1;32m      4\u001b[0m \u001b[0;32mclass\u001b[0m \u001b[0mDisk\u001b[0m\u001b[0;34m:\u001b[0m\u001b[0;34m\u001b[0m\u001b[0;34m\u001b[0m\u001b[0m\n\u001b[0;32m----> 5\u001b[0;31m     \u001b[0mself\u001b[0m\u001b[0;34m.\u001b[0m\u001b[0mCOUL_FACTOR\u001b[0m \u001b[0;34m=\u001b[0m \u001b[0;36m8.988e9\u001b[0m\u001b[0;34m\u001b[0m\u001b[0;34m\u001b[0m\u001b[0m\n\u001b[0m\u001b[1;32m      6\u001b[0m     def __init__(self, x:np.ndarray, v:np.ndarray, mass:float=3, \n\u001b[1;32m      7\u001b[0m                  radius:float=.5, charge:float=1.602e-3):\n",
      "\u001b[0;31mNameError\u001b[0m: name 'self' is not defined"
     ]
    }
   ],
   "source": [
    "from ParticleSim import Disk\n",
    "from ParticleSim import Expt"
   ]
  },
  {
   "cell_type": "code",
   "execution_count": null,
   "id": "af2ebaab-d15d-45e7-86ec-441ca33e5f4c",
   "metadata": {},
   "outputs": [],
   "source": [
    "# TEST CELL FOR showAnimation1\n",
    "seed = 42\n",
    "rng = default_rng(seed=seed) # instatiate the default random number generator\n",
    "sqrtNumParts = 2\n",
    "\n",
    "pPosGrid = list(itertools.product(np.linspace(20, 180,sqrtNumParts), np.linspace(20,180,sqrtNumParts)))\n",
    "pVelGrid = list(rng.random(size=(sqrtNumParts**2,2))*1) #slightly randomize initial velocities\n",
    "\n",
    "particles = [Disk(pPosGrid[i], pVelGrid[i]) for i in range(sqrtNumParts**2)][:-1]\n",
    "\n",
    "e1 = Expt(particles, dt=0.1, tmax=5, animSpeed=0.5)\n",
    "\n",
    "print(e1.avgKE)\n",
    "e1.showAnimation1(\"seed = \" + str(seed) + \"     \")\n",
    "print(e1.avgKE)"
   ]
  },
  {
   "cell_type": "code",
   "execution_count": null,
   "id": "38e93c02-a1ad-472f-8636-6fa5342e5ca7",
   "metadata": {},
   "outputs": [],
   "source": [
    "# Fixing random state for reproducibility\n",
    "np.random.seed(19680801)\n",
    "# Fixing bin edges\n",
    "HIST_BINS = np.linspace(-4, 4, 100)\n",
    "\n",
    "# histogram our data with numpy\n",
    "data = np.random.randn(1000)\n",
    "n, _ = np.histogram(data, HIST_BINS)\n",
    "def prepare_animation(bar_container):\n",
    "\n",
    "    def animate(frame_number):\n",
    "        # simulate new data coming in\n",
    "        data = np.random.randn(1000)\n",
    "        n, _ = np.histogram(data, HIST_BINS)\n",
    "        for count, rect in zip(n, bar_container.patches):\n",
    "            rect.set_height(count)\n",
    "        return bar_container.patches\n",
    "    return animate\n",
    "# Output generated via `matplotlib.animation.Animation.to_jshtml`.\n",
    "\n",
    "fig, ax = plt.subplots()\n",
    "_, _, bar_container = ax.hist(data, HIST_BINS, lw=1,\n",
    "                              ec=\"yellow\", fc=\"green\", alpha=0.5)\n",
    "ax.set_ylim(top=55)  # set safe limit to ensure that all data is visible.\n",
    "\n",
    "ani = FuncAnimation(fig, prepare_animation(bar_container), 50,\n",
    "                              repeat=False, blit=True)\n",
    "plt.show()"
   ]
  },
  {
   "cell_type": "code",
   "execution_count": null,
   "id": "fad9a7f8-763d-4685-a97e-425514e6651d",
   "metadata": {},
   "outputs": [],
   "source": [
    "KEs = [2*x**2 for x in range(5)]\n",
    "fig, (ax1, ax2) = plt.subplots(1, 2)\n",
    "ax2.hist(KEs, bins = 5, color = 'black', histtype = 'step', stacked = True);"
   ]
  },
  {
   "cell_type": "code",
   "execution_count": null,
   "id": "671a6d95-679c-4567-8616-2255ae85e4ae",
   "metadata": {
    "tags": []
   },
   "outputs": [],
   "source": [
    "seed = 42\n",
    "rng = default_rng(seed=seed) # instatiate the default random number generator\n",
    "sqrtNumParts = 5\n",
    "\n",
    "pPosGrid = list(itertools.product(np.linspace(20, 180,sqrtNumParts), np.linspace(20,180,sqrtNumParts)))\n",
    "pVelGrid = list(rng.random(size=(sqrtNumParts**2,2))*1) #slightly randomize initial velocities\n",
    "\n",
    "particles = [Disk(pPosGrid[i], pVelGrid[i]) for i in range(sqrtNumParts**2)][:-1]\n",
    "\n",
    "e1 = Expt(particles, dt=0.1, tmax=15, animSpeed=0.5)\n",
    "\n",
    "print(e1.avgKE)\n",
    "e1.showAnimation(\"seed = \" + str(seed) + \"     \")\n",
    "print(e1.avgKE)"
   ]
  },
  {
   "cell_type": "code",
   "execution_count": null,
   "id": "c4de5fed-2a0e-4898-b04c-1bd21d6ac220",
   "metadata": {
    "tags": []
   },
   "outputs": [],
   "source": [
    "plt.close(\"all\")"
   ]
  },
  {
   "cell_type": "code",
   "execution_count": null,
   "id": "f9ad520c-31b3-4bd3-8c3c-34d031e6694a",
   "metadata": {
    "tags": []
   },
   "outputs": [],
   "source": [
    "#create and test an example disk\n",
    "p = Disk([1,1], [6,8], 3, 2, 1)\n",
    "p1 = Disk([3, 2], [3, 3], 1, 1, 1)\n",
    "\n",
    "print(p < p1)\n",
    "print(p == p1)\n",
    "print(p > p1)\n",
    "print(p.speed)\n",
    "print(p.KE)\n",
    "print(p.x)"
   ]
  },
  {
   "cell_type": "code",
   "execution_count": null,
   "id": "a975bf44-13ef-484d-90b3-354281905a40",
   "metadata": {},
   "outputs": [],
   "source": []
  }
 ],
 "metadata": {
  "kernelspec": {
   "display_name": "Python 3",
   "language": "python",
   "name": "python3"
  },
  "language_info": {
   "codemirror_mode": {
    "name": "ipython",
    "version": 3
   },
   "file_extension": ".py",
   "mimetype": "text/x-python",
   "name": "python",
   "nbconvert_exporter": "python",
   "pygments_lexer": "ipython3",
   "version": "3.8.8"
  }
 },
 "nbformat": 4,
 "nbformat_minor": 5
}
