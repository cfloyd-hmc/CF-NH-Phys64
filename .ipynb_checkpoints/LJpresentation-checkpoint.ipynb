{
 "cells": [
  {
   "cell_type": "code",
   "execution_count": null,
   "id": "6facfe5f-3e16-48b9-bee4-788c7de9faa6",
   "metadata": {},
   "outputs": [],
   "source": [
    "%matplotlib widget\n",
    "import numpy as np\n",
    "import matplotlib.pyplot as plt\n",
    "from matplotlib.animation import FuncAnimation\n",
    "import itertools\n",
    "import math\n",
    "from functools import total_ordering\n",
    "from numpy.random import default_rng\n",
    "\n",
    "#our class!\n",
    "from LJParticles import LJParticles"
   ]
  },
  {
   "cell_type": "markdown",
   "id": "e60da354-86e7-450e-8edb-13dbb06da425",
   "metadata": {},
   "source": [
    "# Final Project: Molecular Dynamics With the Lennard-Jones Potential\n",
    "\n",
    "By Conor Floyd and Nikolas Hall"
   ]
  },
  {
   "cell_type": "markdown",
   "id": "f2eb49a9-ed06-464f-865b-dab24867433e",
   "metadata": {},
   "source": [
    "## Background\n",
    "### How Do Neutral Molecules Interact?\n",
    "\n",
    "Key Ideas:\n",
    "- All atoms and molecules, even those with no net charge, experience attractive and repulsive forces\n",
    "- In polar molecules, forces arise from permanent dipoles due to uneven electron sharing\n",
    "- In nonpolar molecules and inert atoms (such as the noble gases), random electron motion creates temporary dipoles\n",
    "- These dipoles are short-lived, but they can still induce dipoles in neighboring atoms/molecules\n",
    "- Dipole-dipole interactions can generate weak attractive forces\n",
    "\n",
    "These forces, known as **London dispersion forces**, grow stronger as the inter-particle distance decreases. If two particles get too close, their electron orbitals begin to overlap, producing strong repulsive forces. Between the two extremes lies a point where the net force on each particle is zero. This is the equilibrium separation.\n",
    "\n",
    "<img src=\"London.png\" style=\"width:600px\"/>"
   ]
  },
  {
   "cell_type": "markdown",
   "id": "4cd0f52f-9ff5-4ddf-9528-f527f346e5bc",
   "metadata": {},
   "source": [
    "### Our Goals for This Project\n",
    "\n",
    "We had two main goals for this project: \n",
    "1. Simulate a system of particles interacting through London dispersion forces\n",
    "2. \"Cool\" the system to observe a change of phase\n",
    "\n",
    "To do simulate London dispersion forces, we implemented the Lennard-Jones potential. To lower the temperature of our system, we periodically reduced the particles' kinetic energies."
   ]
  },
  {
   "cell_type": "markdown",
   "id": "9f151ff6-95a5-45e2-8003-712545153fc0",
   "metadata": {},
   "source": [
    "### What is the Lennard-Jones Potential?\n",
    "\n",
    "The **Lennard-Jones** potential energy function describes the weak long-range attractions and strong short-range repulsions typical of a system of particles interacting via London dispersion forces. The function is as follows:\n",
    "$$\n",
    "    V(r) = 4 \\times \\epsilon \\times [(\\frac{\\sigma}{r})^{12} - (\\frac{\\sigma}{r})^{6}]\n",
    "$$\n",
    "$r$ = Distance between the centers of two particles\n",
    "\n",
    "$V(r)$ = Potential energy of interaction between the two particles\n",
    "\n",
    "$\\epsilon$ = Depth of the potential well (units of energy)\n",
    "\n",
    "$\\sigma$ = \"Van der Waals\" radius, the distance at which $V(r) = 0$ (units of length)\n",
    "\n",
    "The strength of associated Lennard-Jones force is given by:\n",
    "\n",
    "$$\n",
    "    F(r) = -\\frac{\\partial V}{\\partial r} = 24 \\times \\frac{\\epsilon}{r} \\times [2 \\times (\\frac{\\sigma}{r})^{12} - (\\frac{\\sigma}{r})^{6}]\n",
    "$$\n",
    "\n",
    "The $(\\frac{\\sigma}{r})^{12}$ term dominates at small $r$ and captures the short-range repulsive forces. The $(\\frac{\\sigma}{r})^{6}$ describes the weak attractive force that dominates at larger $r$. At the bottom of the Lennard-Jones potential well, the force on each particle is zero.\n",
    "\n",
    "<img src=\"LJ-Plot.png\" style=\"width:600px\"/>"
   ]
  },
  {
   "cell_type": "markdown",
   "id": "18eb9886-1a62-4579-940c-94f2922de959",
   "metadata": {},
   "source": [
    "## Major Decisions\n",
    "### Boundary Conditions\n",
    "\n",
    "Two options we explored: **Periodic** and **Hard Wall**\n",
    "\n",
    "**Periodic:** Particles \"wrap around\" the edges, like Pac-Man.\n",
    "\n",
    "Pros:\n",
    "- Avoid wall hits (which we'll see are problematic)\n",
    "- Avoid strange behavior near walls\n",
    "\n",
    "Cons:\n",
    "- Difficult to implement\n",
    "    - Distance between particles (calculated O(n^2) times each dt) nontrivial, slower\n",
    "- Unphysical oscillations\n",
    "    - If using only nearest particle, system may tend towards unphysical oscilations, some of which increase total energy\n",
    "\n",
    "<img src=\"oldBCproblem.gif\" style=\"width:600px\"/>\n",
    "\n",
    "**Hard Wall:** Particles bounce off of walls\n",
    "\n",
    "Pros:\n",
    "- Simple\n",
    "\n",
    "Cons:\n",
    "- Wall hits pose a threat to energy conservation"
   ]
  },
  {
   "cell_type": "markdown",
   "id": "64095cb4-02d5-4c16-a133-e218f022c1f1",
   "metadata": {},
   "source": [
    "### Energy Conservation During Wall Hits\n",
    "\n",
    "There are a few different ways to implement wall hits.\n",
    "\n",
    "In all of them, appropriately mirror velocity to point inwards. The question is what to do with position, and there are a few options: Here are the energy graphs from a few we explored.\n",
    "\n",
    "<img src=\"Egraphs.svg\" style=\"width:600px\"/>\n",
    "\n",
    "With only reflecting velocity, we couldn't get energy to be reasonably conserved over long experiments (it tended to increase). To fix this, we scale velocity after wall colissions to correct for the potential energy gained."
   ]
  },
  {
   "cell_type": "markdown",
   "id": "5560e29f-76ec-46f6-ad6c-52fb3423dae8",
   "metadata": {},
   "source": [
    "\n",
    "### First attempt: Disk class\n",
    "\n",
    "Initially, we made a separate \"Disk\" class, and stored an array of Disk objects.\n",
    "\n",
    "Pros:\n",
    "- Customizability\n",
    "    - Variety of possible explorations: Different charge? mass?\n",
    "\n",
    "Cons:\n",
    "- Efficiency\n",
    "    - Ran 10-100x slower\n",
    "- Simplicity\n",
    "    - lots of confusing inter-object function calls\n",
    "\n",
    "We did this with both periodic and hard-wall collisions. Unfortunately, this implementation was prohibitively slow, preventing us from running large, long experiments with low timesteps, which is where we're able to do the most interesting analysis.\n",
    "\n",
    "So we rewrote to not use the Disk class and instead store positions, etc. in arrays directly, and everything worked way better.\n",
    "\n",
    "\n",
    "### Summary of Our Decisions\n",
    "\n",
    "Used **Hard Wall Boundary Conditions**\n",
    "Why? Simpler.\n",
    "\n",
    "Encoded as **arrays of positions, velocities, and accelerations**, not as Disk objects.\n",
    "Why? Faster.\n",
    "\n",
    "Automatically **Scaled velocities after collisions**, without adjusting positions.\n",
    "Why? Long-term energy conservation.\n",
    "\n",
    "**Progress bar**. Why? Impatience."
   ]
  },
  {
   "cell_type": "markdown",
   "id": "badd48fb-29a0-4474-b9a1-a56828ce371b",
   "metadata": {},
   "source": [
    "#### Our Code\n",
    "\n",
    "LJParticles.py contains the class, which is all you need to start running your own simulations! We ran them in jupyter notebook and jupyter lab, and had a few helper scripts to effectively look through the gif files.\n",
    "\n",
    "Eg. call to gifPlayer script: python gifPlayer.py myAwesomeGif.gif"
   ]
  },
  {
   "cell_type": "markdown",
   "id": "9cdadf2a-67a6-4b3b-a9cc-4dc6961a3dc4",
   "metadata": {},
   "source": [
    "### Running our first Simulation!"
   ]
  },
  {
   "cell_type": "code",
   "execution_count": null,
   "id": "36693c90-2722-4608-a5ae-7e560408be0b",
   "metadata": {},
   "outputs": [],
   "source": [
    "dt = 0.02\n",
    "tmax = 5\n",
    "\n",
    "LJ = LJParticles(initialKE = .3, Lx = 6, Ly = 6, nx=4, ny=4, \n",
    "                 dt=dt, tmax=tmax, dispEvery=1, cool=False)\n",
    "\n",
    "PEs, KEs = LJ.saveAnimation(\"LJpresentation\")\n",
    "TEs = [PEs[i] + KEs[i] for i in range(len(PEs))]\n",
    "\n",
    "tvar = np.arange(0,tmax,dt)\n",
    "fig, ax = plt.subplots()\n",
    "\n",
    "ax.set_xlabel(\"Time (s)\")\n",
    "ax.set_ylabel(\"Energy\")\n",
    "ax.set_title(\"Energies over time\")\n",
    "\n",
    "ax.plot(tvar, PEs, \"b\", label=\"Potential Energy\")\n",
    "ax.plot(tvar, KEs, \"r\", label=\"Kinetic Energy\")\n",
    "ax.plot(tvar, TEs, \"g\", label=\"Total Energy\");\n",
    "\n",
    "ax.legend();"
   ]
  },
  {
   "cell_type": "markdown",
   "id": "adc533d8-2d25-437f-9476-012267381501",
   "metadata": {},
   "source": [
    "Let's open the gif!\n",
    "\n",
    "<img src=\"LJpresentation.gif\" style=\"width:600px\"/>"
   ]
  },
  {
   "cell_type": "markdown",
   "id": "7119ba4c-2b91-499d-98ee-7e665bc6af24",
   "metadata": {},
   "source": [
    "We ran simulations up to 625 particles, but those gifs aren't very pretty because we ran it efficiently, rarely saving the frames to animation. We have a working Lennard-Jones particle simulator! Stay tuned to see another pretty gif!"
   ]
  },
  {
   "cell_type": "markdown",
   "id": "b4cb1248-0e7c-4d8c-8365-a03c7e3a1fa4",
   "metadata": {},
   "source": [
    "### Cool, now what do we do with it? cool.\n",
    "\n",
    "To cool the system, we wrote a simple function called cools(). It:\n",
    "- Scales each particle's x and y velocities by 90 percent (using default cool_factor=0.9)\n",
    "- Is called in our advance() function, which updates each particle's position, velocity, and acceleration at every time step\n",
    "\n",
    "The time delays between coolings can be adjusted with the cool_every argument."
   ]
  },
  {
   "cell_type": "code",
   "execution_count": null,
   "id": "e36efa8a-4a0e-4c0d-a1ec-fc2c56055238",
   "metadata": {},
   "outputs": [],
   "source": [
    "def cools(self):\n",
    "    \"\"\"\n",
    "    Cools the system by reducing its kinetic energy.\n",
    "    \"\"\"\n",
    "    for i in range(self.N):            # for each particle,\n",
    "        self.vx[i] *= self.cool_factor # scale its x velocity\n",
    "        self.vy[i] *= self.cool_factor # and scale its y velocity"
   ]
  },
  {
   "cell_type": "markdown",
   "id": "5bf905cc-e223-4502-88fa-6d1c531cc921",
   "metadata": {},
   "source": [
    "## Cool Experiments!\n",
    "\n",
    "Time for a big experiment! This runs in about 10 minutes, on Conor's very slow computer. Good thing we have that progress bar!\n",
    "\n",
    "This experiment has 225 particles.\n",
    "\n",
    "<img src=\"bigCoolingExpt3.gif\" style=\"width:600px\"/>\n",
    "\n",
    "Notice: We're cooling the system, causing substantial visual changes to its structure\n",
    "\n",
    "<img src=\"bigCoolingExpt3.png\" style=\"width:600px\"/>\n",
    "\n",
    "<img src=\"bigCool8.png\" style=\"width:400px\"/> <img src=\"bigCool39.png\" style=\"width:400px\"/>\n"
   ]
  },
  {
   "cell_type": "markdown",
   "id": "978ad562-877e-4cd9-b66e-e42e4b4787db",
   "metadata": {},
   "source": [
    "## Conclusion\n",
    "\n",
    "In our simulation, we:\n",
    "- Implemented the Lennard-Jones potential\n",
    "- Created a molecular dynamics simulation that conserves energy reasonably well\n",
    "- \"Cooled\" our system to model a gas-to-liquid or liquid-to-solid phase transition\n",
    "- Made a neat progress bar!\n",
    "\n",
    "Future work could involve:\n",
    "- Adding gravity to a gas-to-liquid phase change\n",
    "- Calculating the pressure on the walls of the box\n",
    "- Implementing periodic boundary conditions"
   ]
  },
  {
   "cell_type": "markdown",
   "id": "3aed27ed-9176-4eeb-841c-5ca50d01159d",
   "metadata": {},
   "source": [
    "### References\n",
    "\n",
    "1. Amdahl, Kirsten. “Fundamentals of Phase Transitions.” Chemistry LibreTexts, Libretexts, 30 Jan. 2023, https://chem.libretexts.org/Bookshelves/Physical_and_Theoretical_Chemistry_Textbook_Maps/Supplemental_Modules_(Physical_and_Theoretical_Chemistry)/Physical_Properties_of_Matter/States_of_Matter/Phase_Transitions/Fundamentals_of_Phase_Transitions#:~:text=Phase%20transition%20is%20when%20a,combination%20of%20temperature%20and%20pressure. \n",
    "\n",
    "2. Daub, G. William, and William S. Seese. Basic Chemistry. Prentice Hall, 1996. \n",
    "\n",
    "3. Graham, Kate. “7.4: London Attractions.” Chemistry LibreTexts, Libretexts, 14 July 2020, https://chem.libretexts.org/Ancillary_Materials/Worksheets/Worksheets%3A_Inorganic_Chemistry/Structure_and_Reactivity_in_Organic_Biological_and_Inorganic_Chemistry/07%3A_Intermolecular_Attraction_and_Structure-Property_Relationships/7.04%3A_London_Attractions. \n",
    "\n",
    "4. Naeem, Rabia. “Lennard-Jones Potential.” Chemistry LibreTexts, Libretexts, 15 Apr. 2023, https://chem.libretexts.org/Bookshelves/Physical_and_Theoretical_Chemistry_Textbook_Maps/Supplemental_Modules_(Physical_and_Theoretical_Chemistry)/Physical_Properties_of_Matter/Atomic_and_Molecular_Properties/Intermolecular_Forces/Specific_Interactions/Lennard-Jones_Potential. "
   ]
  }
 ],
 "metadata": {
  "kernelspec": {
   "display_name": "Python 3",
   "language": "python",
   "name": "python3"
  },
  "language_info": {
   "codemirror_mode": {
    "name": "ipython",
    "version": 3
   },
   "file_extension": ".py",
   "mimetype": "text/x-python",
   "name": "python",
   "nbconvert_exporter": "python",
   "pygments_lexer": "ipython3",
   "version": "3.8.8"
  }
 },
 "nbformat": 4,
 "nbformat_minor": 5
}
