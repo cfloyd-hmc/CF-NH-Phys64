{
 "cells": [
  {
   "cell_type": "code",
   "execution_count": 1,
   "id": "c69b6f29-8af1-47be-93bf-259edcf49055",
   "metadata": {},
   "outputs": [],
   "source": [
    "%matplotlib widget\n",
    "import numpy as np\n",
    "import matplotlib.pyplot as plt\n",
    "from matplotlib.animation import FuncAnimation\n",
    "import itertools\n",
    "from functools import total_ordering\n",
    "from numpy.random import default_rng\n",
    "\n",
    "#our classes!!! :)\n",
    "from ParticleSim import Disk\n",
    "from ParticleSim import Expt"
   ]
  },
  {
   "cell_type": "code",
   "execution_count": 3,
   "id": "d77299dd-02ae-4ebb-af4a-1a24ea6c5b9f",
   "metadata": {},
   "outputs": [
    {
     "name": "stderr",
     "output_type": "stream",
     "text": [
      "MovieWriter ffmpeg unavailable; using Pillow instead.\n"
     ]
    },
    {
     "name": "stdout",
     "output_type": "stream",
     "text": [
      "Initial KE: 2353.0634724505835\n",
      "Initial PE: 3984.897222667378\n",
      "Initial Total E: 6337.960695117961\n",
      "initializing experiment... \n",
      "starting simulation... \n",
      "[█████████████████████████████▄▁▁]  \n",
      "finished animating!\n",
      "Final KE: 2366.2595176734085\n",
      "Final PE: 4669.85769721195\n",
      "Final Total E: 7036.117214885358\n"
     ]
    }
   ],
   "source": [
    "# ANOTHER TEST CELL FOR showAnimation (LENNARD-JONES, NO COLLISIONS)\n",
    "seed = 42\n",
    "rng = default_rng(seed=seed) # instantiate the default random number generator\n",
    "sqrtNumParts = 5\n",
    "\n",
    "pPosGrid = list(itertools.product(np.linspace(20, 180,sqrtNumParts), np.linspace(20,180,sqrtNumParts)))\n",
    "pVelGrid = list((rng.random(size=(sqrtNumParts**2,2))-.5)*100) #randomize initial velocities\n",
    "\n",
    "particles = [Disk(pPosGrid[i], pVelGrid[i]) for i in range(sqrtNumParts**2)]\n",
    "\n",
    "e1 = Expt(particles, dt=0.01, tmax=1.0, animSpeed=1000, updateGraphsEvery=35, \n",
    "          potentialType=\"Lenn\", doCollisions=False)\n",
    "\n",
    "print(\"Initial KE:\",e1.avgKE)\n",
    "print(\"Initial PE:\",e1.avgPE)\n",
    "print(\"Initial Total E:\",e1.avgE)\n",
    "e1.showAnimation(\"seed = \" + str(seed) + \"     \")\n",
    "print(\"Final KE:\",e1.avgKE)\n",
    "print(\"Final PE:\",e1.avgPE)\n",
    "print(\"Final Total E:\",e1.avgE)"
   ]
  },
  {
   "cell_type": "code",
   "execution_count": 4,
   "id": "1151afcf-d72c-4568-9089-0a532801bc9c",
   "metadata": {},
   "outputs": [
    {
     "name": "stdout",
     "output_type": "stream",
     "text": [
      "Initial KE: 15000.0\n",
      "Initial PE: 0.0\n",
      "Initial Total E: 15000.0\n"
     ]
    },
    {
     "ename": "AttributeError",
     "evalue": "'Expt' object has no attribute 'showAnimation1'",
     "output_type": "error",
     "traceback": [
      "\u001b[0;31m---------------------------------------------------------------------------\u001b[0m",
      "\u001b[0;31mAttributeError\u001b[0m                            Traceback (most recent call last)",
      "\u001b[0;32m<ipython-input-4-bce2ddb57b25>\u001b[0m in \u001b[0;36m<module>\u001b[0;34m\u001b[0m\n\u001b[1;32m     24\u001b[0m \u001b[0mprint\u001b[0m\u001b[0;34m(\u001b[0m\u001b[0;34m\"Initial PE:\"\u001b[0m\u001b[0;34m,\u001b[0m\u001b[0me1\u001b[0m\u001b[0;34m.\u001b[0m\u001b[0mavgPE\u001b[0m\u001b[0;34m)\u001b[0m\u001b[0;34m\u001b[0m\u001b[0;34m\u001b[0m\u001b[0m\n\u001b[1;32m     25\u001b[0m \u001b[0mprint\u001b[0m\u001b[0;34m(\u001b[0m\u001b[0;34m\"Initial Total E:\"\u001b[0m\u001b[0;34m,\u001b[0m\u001b[0me1\u001b[0m\u001b[0;34m.\u001b[0m\u001b[0mavgE\u001b[0m\u001b[0;34m)\u001b[0m\u001b[0;34m\u001b[0m\u001b[0;34m\u001b[0m\u001b[0m\n\u001b[0;32m---> 26\u001b[0;31m \u001b[0me1\u001b[0m\u001b[0;34m.\u001b[0m\u001b[0mshowAnimation1\u001b[0m\u001b[0;34m(\u001b[0m\u001b[0;34m\"seed = \"\u001b[0m \u001b[0;34m+\u001b[0m \u001b[0mstr\u001b[0m\u001b[0;34m(\u001b[0m\u001b[0mseed\u001b[0m\u001b[0;34m)\u001b[0m \u001b[0;34m+\u001b[0m \u001b[0;34m\"     \"\u001b[0m\u001b[0;34m)\u001b[0m\u001b[0;34m\u001b[0m\u001b[0;34m\u001b[0m\u001b[0m\n\u001b[0m\u001b[1;32m     27\u001b[0m \u001b[0mprint\u001b[0m\u001b[0;34m(\u001b[0m\u001b[0;34m\"Final KE:\"\u001b[0m\u001b[0;34m,\u001b[0m\u001b[0me1\u001b[0m\u001b[0;34m.\u001b[0m\u001b[0mavgKE\u001b[0m\u001b[0;34m)\u001b[0m\u001b[0;34m\u001b[0m\u001b[0;34m\u001b[0m\u001b[0m\n\u001b[1;32m     28\u001b[0m \u001b[0mprint\u001b[0m\u001b[0;34m(\u001b[0m\u001b[0;34m\"Final PE:\"\u001b[0m\u001b[0;34m,\u001b[0m\u001b[0me1\u001b[0m\u001b[0;34m.\u001b[0m\u001b[0mavgPE\u001b[0m\u001b[0;34m)\u001b[0m\u001b[0;34m\u001b[0m\u001b[0;34m\u001b[0m\u001b[0m\n",
      "\u001b[0;31mAttributeError\u001b[0m: 'Expt' object has no attribute 'showAnimation1'"
     ]
    }
   ],
   "source": [
    "# TEST CELL FOR showAnimation (TWO HARD DISKS COLLIDING)\n",
    "seed = 42\n",
    "rng = default_rng(seed=seed) # instantiate the default random number generator\n",
    "#sqrtNumParts = 2\n",
    "\n",
    "#pPosGrid = list(itertools.product(np.linspace(20, 180,sqrtNumParts), np.linspace(20,180,sqrtNumParts)))\n",
    "\n",
    "#print(pPosGrid)\n",
    "\n",
    "#pVelGrid = list((rng.random(size=(sqrtNumParts**2,2))-.5)*100) #randomize initial velocities\n",
    "\n",
    "#particles = [Disk(pPosGrid[i], pVelGrid[i]) for i in range(sqrtNumParts**2)]\n",
    "\n",
    "p1 = Disk([20.0, 20.0], [100.0, 0.0], charge = 0)\n",
    "\n",
    "p2 = Disk([50.0, 20.0], [-100.0, 0.0], charge = 0)\n",
    "\n",
    "particles = [p1, p2]\n",
    "\n",
    "e1 = Expt(particles, dt=0.001, tmax=0.3, animSpeed=500, updateGraphsEvery=35, \n",
    "          potentialType=\"Coul\", doCollisions=True)\n",
    "\n",
    "print(\"Initial KE:\",e1.avgKE)\n",
    "print(\"Initial PE:\",e1.avgPE)\n",
    "print(\"Initial Total E:\",e1.avgE)\n",
    "e1.showAnimation(\"seed = \" + str(seed) + \"     \")\n",
    "print(\"Final KE:\",e1.avgKE)\n",
    "print(\"Final PE:\",e1.avgPE)\n",
    "print(\"Final Total E:\",e1.avgE)"
   ]
  },
  {
   "cell_type": "code",
   "execution_count": 2,
   "id": "9b4626ee-3328-40b2-a458-887d37fa7568",
   "metadata": {},
   "outputs": [
    {
     "name": "stderr",
     "output_type": "stream",
     "text": [
      "MovieWriter ffmpeg unavailable; using Pillow instead.\n"
     ]
    },
    {
     "name": "stdout",
     "output_type": "stream",
     "text": [
      "Initial KE: 588.2658681126459\n",
      "Initial PE: 3984.897222667378\n",
      "Initial Total E: 4573.1630907800245\n",
      "initializing experiment... \n",
      "starting simulation... \n",
      "[██████████████████████▄▁▁▁▁▁▁▁▁▁]  \n",
      "finished animating!\n",
      "Final KE: 439.77811463618883\n",
      "Final PE: 4286.81684525108\n",
      "Final Total E: 4726.5949598872685\n"
     ]
    }
   ],
   "source": [
    "# ANOTHER TEST CELL FOR showAnimation (COULOMB, NO COLLISIONS)\n",
    "seed = 42\n",
    "rng = default_rng(seed=seed) # instantiate the default random number generator\n",
    "sqrtNumParts = 5\n",
    "\n",
    "pPosGrid = list(itertools.product(np.linspace(20, 180,sqrtNumParts), np.linspace(20,180,sqrtNumParts)))\n",
    "pVelGrid = list((rng.random(size=(sqrtNumParts**2,2))-.5)*50) #randomize initial velocities\n",
    "\n",
    "particles = [Disk(pPosGrid[i], pVelGrid[i]) for i in range(sqrtNumParts**2)]\n",
    "\n",
    "e1 = Expt(particles, dt=0.01, tmax=1.0, animSpeed=1000, updateGraphsEvery=35, \n",
    "          potentialType=\"Coul\", doCollisions=False)\n",
    "\n",
    "print(\"Initial KE:\",e1.avgKE)\n",
    "print(\"Initial PE:\",e1.avgPE)\n",
    "print(\"Initial Total E:\",e1.avgE)\n",
    "e1.showAnimation(\"seed = \" + str(seed) + \"     \")\n",
    "print(\"Final KE:\",e1.avgKE)\n",
    "print(\"Final PE:\",e1.avgPE)\n",
    "print(\"Final Total E:\",e1.avgE)"
   ]
  },
  {
   "cell_type": "code",
   "execution_count": 3,
   "id": "43ac11b8-30ba-461e-8a87-c0934232b680",
   "metadata": {},
   "outputs": [
    {
     "name": "stderr",
     "output_type": "stream",
     "text": [
      "MovieWriter ffmpeg unavailable; using Pillow instead.\n"
     ]
    },
    {
     "name": "stdout",
     "output_type": "stream",
     "text": [
      "Initial KE: 588.2658681126459\n",
      "Initial PE: 3984.897222667378\n",
      "Initial Total E: 4573.1630907800245\n",
      "initializing experiment... \n",
      "starting simulation... \n",
      "[███████████████████████████████]   \n",
      "finished animating!\n",
      "Final KE: 455.07662677679355\n",
      "Final PE: 4311.213387688228\n",
      "Final Total E: 4766.290014465022\n"
     ]
    }
   ],
   "source": []
  },
  {
   "cell_type": "code",
   "execution_count": null,
   "id": "88874cb3-c68c-4203-a805-79a3482cfb8e",
   "metadata": {},
   "outputs": [],
   "source": []
  },
  {
   "cell_type": "code",
   "execution_count": null,
   "id": "291d5b9e-76ce-489d-af30-bef52cb387b3",
   "metadata": {},
   "outputs": [],
   "source": []
  },
  {
   "cell_type": "code",
   "execution_count": null,
   "id": "344d8955-b795-4b88-b63e-47b9f15a0a7f",
   "metadata": {},
   "outputs": [],
   "source": [
    "import tkinter as tk\n",
    "from PIL import Image, ImageTk\n",
    "\n",
    "class GifViewer(tk.Frame):\n",
    "    def __init__(self, master, gif_path):\n",
    "        super().__init__(master)\n",
    "        self.master = master\n",
    "        self.gif_path = gif_path\n",
    "        self.gif = Image.open(gif_path)\n",
    "        self.frame_count = self.gif.n_frames\n",
    "        self.current_frame = 0\n",
    "        \n",
    "        # Create the slider\n",
    "        self.slider = tk.Scale(\n",
    "            self.master,\n",
    "            from_=0,\n",
    "            to=self.frame_count-1,\n",
    "            orient=tk.HORIZONTAL,\n",
    "            command=self.set_frame\n",
    "        )\n",
    "        self.slider.pack(side=tk.BOTTOM, fill=tk.X)\n",
    "        \n",
    "        # Create the label to display the GIF\n",
    "        self.label = tk.Label(self.master)\n",
    "        self.label.pack()\n",
    "        \n",
    "        # Set the initial frame\n",
    "        self.set_frame(0)\n",
    "    \n",
    "    def set_frame(self, frame):\n",
    "        self.current_frame = int(frame)\n",
    "        self.gif.seek(self.current_frame)\n",
    "        photo = ImageTk.PhotoImage(self.gif)\n",
    "        self.label.config(image=photo)\n",
    "        self.label.image = photo\n",
    "        \n",
    "    def run(self):\n",
    "        self.master.mainloop()\n",
    "        \n",
    "if __name__ == '__main__':\n",
    "    root = tk.Tk()\n",
    "    root.title('GIF Viewer')\n",
    "    gif_path = 'particleAnimation.gif'\n",
    "    viewer = GifViewer(root, gif_path)\n",
    "    viewer.run()"
   ]
  }
 ],
 "metadata": {
  "kernelspec": {
   "display_name": "Python 3",
   "language": "python",
   "name": "python3"
  },
  "language_info": {
   "codemirror_mode": {
    "name": "ipython",
    "version": 3
   },
   "file_extension": ".py",
   "mimetype": "text/x-python",
   "name": "python",
   "nbconvert_exporter": "python",
   "pygments_lexer": "ipython3",
   "version": "3.8.8"
  }
 },
 "nbformat": 4,
 "nbformat_minor": 5
}
