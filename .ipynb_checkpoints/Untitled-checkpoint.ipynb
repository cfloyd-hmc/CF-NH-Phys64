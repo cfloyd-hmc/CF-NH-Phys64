{
 "cells": [
  {
   "cell_type": "code",
   "execution_count": null,
   "id": "27067b0b",
   "metadata": {},
   "outputs": [],
   "source": [
    "%matplotlib notebook\n",
    "import numpy as np\n",
    "import matplotlib.pyplot as plt\n",
    "from matplotlib.animation import FuncAnimation\n",
    "import itertools\n",
    "import math\n",
    "from functools import total_ordering\n",
    "from numpy.random import default_rng"
   ]
  },
  {
   "cell_type": "code",
   "execution_count": null,
   "id": "84075663",
   "metadata": {},
   "outputs": [],
   "source": [
    "rng = default_rng()"
   ]
  },
  {
   "cell_type": "code",
   "execution_count": null,
   "id": "d3b0a708",
   "metadata": {},
   "outputs": [],
   "source": [
    "class LJParticles:\n",
    "    def __init__(self):\n",
    "        \"\"\"\n",
    "        Initializes a Lennard-Jones molecular dynamics simulation.\n",
    "        \"\"\"\n",
    "        \n",
    "        self.a = 0\n",
    "        \n",
    "        \n",
    "    def setVelocities(self):\n",
    "        \"\"\"\n",
    "        Sets initial velocities according to desired kinetic energy.\n",
    "        \"\"\"\n",
    "        vxSum = 0.0\n",
    "        vySum = 0.0\n",
    "        \n",
    "        # Generate random initial velocities\n",
    "        for i in range(N):\n",
    "            state[4 * i + 1] += rng.random() - 0.5   # vx\n",
    "            state[4 * i + 3] += rng.random() - 0.5   # vy\n",
    "            \n",
    "            vxSum += state[4 * i + 1]\n",
    "            vySum += state[4 * i + 3]\n",
    "            \n",
    "        # Zero the center of mass momentum\n",
    "        vxcm = vxSum / N   # Center of mass velocity (numerically equal to momentum)\n",
    "        vycm = vySum / N\n",
    "        \n",
    "        for i in range(N):\n",
    "            state[4 * i + 1] -= vxcm\n",
    "            state[4 * i + 3] -= vycm\n",
    "        \n",
    "        # Rescale velocities to get desired initial kinetic energy\n",
    "        v2sum = 0\n",
    "        for i in range(N):\n",
    "            v2sum += state[4 * i + 1]**2 + state[4 * i + 3]**2\n",
    "        \n",
    "        kineticEnergyPerParticle = 0.5 * v2sum / N\n",
    "        \n",
    "        rescale = math.sqrt(self.initialKineticEnergy / kineticEnergyPerParticle)\n",
    "        \n",
    "        for i in range(N):\n",
    "            state[4 * i + 1] *= rescale\n",
    "            state[4 * i + 3] *= rescale"
   ]
  }
 ],
 "metadata": {
  "kernelspec": {
   "display_name": "Python 3",
   "language": "python",
   "name": "python3"
  },
  "language_info": {
   "codemirror_mode": {
    "name": "ipython",
    "version": 3
   },
   "file_extension": ".py",
   "mimetype": "text/x-python",
   "name": "python",
   "nbconvert_exporter": "python",
   "pygments_lexer": "ipython3",
   "version": "3.8.8"
  }
 },
 "nbformat": 4,
 "nbformat_minor": 5
}
