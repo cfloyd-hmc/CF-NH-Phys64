{
 "cells": [
  {
   "cell_type": "code",
   "execution_count": 3,
   "id": "40bb7160",
   "metadata": {
    "tags": []
   },
   "outputs": [],
   "source": [
    "%matplotlib notebook\n",
    "import numpy as np                  # This is the standard way of importing numpy\n",
    "import matplotlib.pyplot as plt     # and this is the usual way to load matplotlib\n",
    "import pandas as pd                 # Pandas is convenient for tabular data"
   ]
  },
  {
   "cell_type": "code",
   "execution_count": 16,
   "id": "2555dd27",
   "metadata": {
    "tags": []
   },
   "outputs": [],
   "source": [
    "class Disk:\n",
    "    def __init__(self, x:np.ndarray, v:np.ndarray, mass:float, radius:float, \n",
    "                 charge:float):\n",
    "        self.mass = mass\n",
    "        self.radius = radius\n",
    "        self.x = x #x example: array([2, 4, 6)\n",
    "        self.v = v #v example: array([1, -1, 1])\n",
    "        self.nDim = len(self.x)\n",
    "        if self.nDim != len(self.v):\n",
    "            raise Exception(\"Dimensions of velocity and position lists do not match.\")\n",
    "        self.charge = charge\n",
    "    \n",
    "    def advance(self, t:float, L:float):\n",
    "        #moves forward in a straight line, wrapping around at L in each direction.\n",
    "        x += (v*t) %L\n",
    "    \n",
    "    def getKineticEnergy():\n",
    "        return (1/2)*self.mass*(np.linalg.norm(self.v)**2)\n",
    "    \n"
   ]
  },
  {
   "cell_type": "code",
   "execution_count": 17,
   "id": "09435c60",
   "metadata": {
    "tags": []
   },
   "outputs": [
    {
     "ename": "SyntaxError",
     "evalue": "incomplete input (767575797.py, line 32)",
     "output_type": "error",
     "traceback": [
      "\u001b[1;36m  Cell \u001b[1;32mIn[17], line 32\u001b[1;36m\u001b[0m\n\u001b[1;33m    \u001b[0m\n\u001b[1;37m    ^\u001b[0m\n\u001b[1;31mSyntaxError\u001b[0m\u001b[1;31m:\u001b[0m incomplete input\n"
     ]
    }
   ],
   "source": [
    "class Expt:\n",
    "    def __init__(self, pPositions:list, pVelocities:list, pMass:float=3, pRadius:float=0.5, \n",
    "                 pCharge:float=1, dt:float=0.1, Tmax:float=100, L:float=10):\n",
    "        # diskPositions example: [ [1, 3], [2, 2] ]: two particles at (1,3) and (2,2)\n",
    "        \n",
    "        # set member variables\n",
    "        self.t = 0\n",
    "        self.Tmax = Tmax\n",
    "        self.dt = dt\n",
    "        self.L = L\n",
    "        \n",
    "        # make the particle list\n",
    "        self.numParticles = len(diskPositions)\n",
    "        if self.numParticles != len(diskVelocities):\n",
    "            raise Exception(\"number of particles mismatched between position and velocity lists\")\n",
    "        self.particles = [Disk(x=pPositions[i], v=pVelocities[i],mass=pMass,radius=pRadius, charge=pCharge)\n",
    "                          for i in range(self.numParticles)]\n",
    "    \n",
    "    def nextFrame():\n",
    "        for p in self.particles:\n",
    "            p.advance(dt)\n",
    "    \n",
    "    def getTotalKineticEnergy():\n",
    "        E = 0\n",
    "        for p in self.particles:\n",
    "            E += p.getEnergy()\n",
    "        return E\n",
    "    \n",
    "    def makeAnimation():\n",
    "        \n",
    "    \n"
   ]
  },
  {
   "cell_type": "code",
   "execution_count": 7,
   "id": "e41974fc",
   "metadata": {},
   "outputs": [
    {
     "data": {
      "text/plain": [
       "float"
      ]
     },
     "execution_count": 7,
     "metadata": {},
     "output_type": "execute_result"
    }
   ],
   "source": [
    "type(2.3)"
   ]
  },
  {
   "cell_type": "code",
   "execution_count": 10,
   "id": "03391c3f-b985-40b8-8ae5-9fe617edacd9",
   "metadata": {
    "tags": []
   },
   "outputs": [
    {
     "name": "stdout",
     "output_type": "stream",
     "text": [
      "[ 3  6  9 12]\n",
      "[3 2 1 0]\n"
     ]
    }
   ],
   "source": [
    "x = (np.array([1,2,3,4])*3)\n",
    "print(x)\n",
    "print(x%4)"
   ]
  },
  {
   "cell_type": "code",
   "execution_count": null,
   "id": "e1b4b211-866e-4406-9aa1-a3edbd4e537b",
   "metadata": {},
   "outputs": [],
   "source": []
  }
 ],
 "metadata": {
  "kernelspec": {
   "display_name": "Python 3 (ipykernel)",
   "language": "python",
   "name": "python3"
  },
  "language_info": {
   "codemirror_mode": {
    "name": "ipython",
    "version": 3
   },
   "file_extension": ".py",
   "mimetype": "text/x-python",
   "name": "python",
   "nbconvert_exporter": "python",
   "pygments_lexer": "ipython3",
   "version": "3.11.3"
  }
 },
 "nbformat": 4,
 "nbformat_minor": 5
}
