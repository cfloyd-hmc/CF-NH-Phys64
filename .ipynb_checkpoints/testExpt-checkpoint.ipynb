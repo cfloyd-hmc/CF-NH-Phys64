{
 "cells": [
  {
   "cell_type": "code",
   "execution_count": 1,
   "id": "40bb7160",
   "metadata": {
    "tags": []
   },
   "outputs": [],
   "source": [
    "%matplotlib widget\n",
    "import numpy as np                  # This is the standard way of importing numpy\n",
    "import matplotlib.pyplot as plt     # and this is the usual way to load matplotlib\n",
    "import pandas as pd                 # Pandas is convenient for tabular data\n",
    "from matplotlib.animation import FuncAnimation\n",
    "import itertools\n",
    "from functools import total_ordering\n",
    "try:\n",
    "    from rich.progress import track\n",
    "except:\n",
    "    track = lambda x: x"
   ]
  },
  {
   "cell_type": "code",
   "execution_count": 2,
   "id": "2555dd27",
   "metadata": {
    "tags": []
   },
   "outputs": [],
   "source": [
    "@total_ordering #allows us to only implement lt and eq, imply gt, etc.\n",
    "class Disk:\n",
    "    def __init__(self, x:np.ndarray, v:np.ndarray, mass:float, radius:float, \n",
    "                 charge:float):\n",
    "        self.mass = mass\n",
    "        self.radius = radius\n",
    "        self.x = np.asarray(x) #x example: array([2, 4, 6)\n",
    "        self.v = np.asarray(v) #v example: array([1, -1, 1])\n",
    "        self.nDim = len(self.x)\n",
    "        if self.nDim != len(self.v):\n",
    "            raise Exception(\"Dimensions of velocity and position lists do not match.\")\n",
    "        self.charge = charge\n",
    "    \n",
    "    \n",
    "    def advance(self, t:float, L, F=None):\n",
    "        # apply old velocity (update position)\n",
    "        self.x += self.v * t\n",
    "        self.x = self.x % L\n",
    "        \n",
    "        if F: # apply force (update velocity)\n",
    "            # TODO: update self.v\n",
    "            pass\n",
    "    \n",
    "    #allowing comparisons between disk\n",
    "    def __lt__(self, other):\n",
    "        return self.x[0] < other.x[0]\n",
    "    \n",
    "    def __eq__(self, other):\n",
    "        return self.x[0] == other.x[0]\n",
    "    \n",
    "    @property\n",
    "    def speed(self):\n",
    "        return np.linalg.norm(self.v)\n",
    "    \n",
    "    @property\n",
    "    def KE(self):\n",
    "        return (1/2)*self.mass*(self.speed**2)\n"
   ]
  },
  {
   "cell_type": "code",
   "execution_count": 9,
   "id": "09435c60",
   "metadata": {
    "tags": []
   },
   "outputs": [],
   "source": [
    "class Expt:\n",
    "    def __init__(self, pPositions:list, pVelocities:list, pMass:float=3, pRadius:float=0.5, \n",
    "                 pCharge:float=1, dt:float=0.1, tmax:float=15, L:float=20):\n",
    "        # pPositions example: [ [1, 3], [2, 2] ]: two particles, at (1,3) and (2,2)\n",
    "        \n",
    "        #eventually, get rid of pRadius, pMass etc, and just pass in a list of particles\n",
    "        #this is needed so that we will can have particles of different sizes, masses, etc.\n",
    "        \n",
    "        # set time variables\n",
    "        self.t = 0\n",
    "        self.tmax = tmax\n",
    "        self.dt = dt\n",
    "        \n",
    "        # make the particle list\n",
    "        self.numParticles = len(pPositions)\n",
    "                \n",
    "        if len(pVelocities) != self.numParticles:\n",
    "            raise Exception(\"number of particles mismatched between position and velocity lists\")\n",
    "        \n",
    "        self.particles = [Disk(x=pPositions[i], v=pVelocities[i],mass=pMass,radius=pRadius, charge=pCharge)\n",
    "                          for i in range(self.numParticles)]\n",
    "        \n",
    "        self.nDim = self.particles[0].nDim\n",
    "        \n",
    "        #make the box bounds\n",
    "        self.L = L\n",
    "    \n",
    "    def nextFrame(self):\n",
    "        for p in self.particles: \n",
    "            p.advance(self.dt, self.L)\n",
    "        self.t += self.dt\n",
    "    \n",
    "    @property\n",
    "    def totalKE(self):\n",
    "        return sum(p.KE for p in self.particles)\n",
    "    \n",
    "    @property\n",
    "    def avgKE(self):\n",
    "        return self.totalKE / self.numParticles\n",
    "    \n",
    "    @property\n",
    "    def particlePositions(self):\n",
    "        return np.array([p.x for p in self.particles])\n",
    "\n",
    "    #TODO: implement animation. For inspiration, we might use the \"Relaxation method\" code?\n",
    "    #that seems like it would work well, but IDK yet. TODO TODO FIXME\n",
    "    \n",
    "    def showAnimation(self):\n",
    "        fig, ax = plt.subplots()              # create the figure\n",
    "        ax.set_xlim(0,self.L)              # and adjust axes limits and labels\n",
    "        ax.set_ylim(0,self.L)\n",
    "        ax.set_axis_off()\n",
    "        ax.set_title(self.t)\n",
    "        xvar = np.linspace(0.1,self.L-0.1,self.numParticles)\n",
    "        points, = ax.plot(xvar,np.zeros_like(xvar), 'o')   # create the trace, saving in a variable\n",
    "                                              # Note the comma; the ax.plot call returns a list\n",
    "        \n",
    "        def frame(t):\n",
    "            points.set_data(np.transpose(self.particlePositions))\n",
    "            title = ax.set_title(\"t = {:0.2f}\".format(t))\n",
    "            self.nextFrame()\n",
    "            return points, title\n",
    "\n",
    "        ani = FuncAnimation(fig, frame, np.arange(self.t,self.tmax,self.dt), interval=self.dt*1000, blit=True)\n",
    "        ani.save(\"animat.gif\")\n",
    "    \n",
    "    #idea: makeCopy() function that makes an identical experiment - might be useful to\n",
    "    #let us go to further times or something? idk\n",
    "    "
   ]
  },
  {
   "cell_type": "code",
   "execution_count": 10,
   "id": "671a6d95-679c-4567-8616-2255ae85e4ae",
   "metadata": {
    "tags": []
   },
   "outputs": [
    {
     "name": "stderr",
     "output_type": "stream",
     "text": [
      "MovieWriter ffmpeg unavailable; using Pillow instead.\n"
     ]
    },
    {
     "name": "stdout",
     "output_type": "stream",
     "text": [
      "1.5\n",
      "1.5\n"
     ]
    },
    {
     "data": {
      "application/vnd.jupyter.widget-view+json": {
       "model_id": "f689fa9e679a4188ad80f63ba7f089e4",
       "version_major": 2,
       "version_minor": 0
      },
      "image/png": "[encoded data removed]",
      "text/html": [
       "\n",
       "            <div style=\"display: inline-block;\">\n",
       "                <div class=\"jupyter-widgets widget-label\" style=\"text-align: center;\">\n",
       "                    Figure\n",
       "                </div>\n",
       "                <img src='data:image/png;base64,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' width=640.0/>\n",
       "            </div>\n",
       "        "
      ],
      "text/plain": [
       "Canvas(toolbar=Toolbar(toolitems=[('Home', 'Reset original view', 'home', 'home'), ('Back', 'Back to previous …"
      ]
     },
     "metadata": {},
     "output_type": "display_data"
    }
   ],
   "source": [
    "pPosGrid = list(itertools.product(np.linspace(1,5,5), np.linspace(1,5,5)))\n",
    "pVelGrid = list(itertools.product(np.linspace(-1,1,5), np.linspace(-1,1,5)))\n",
    "\n",
    "e1 = Expt(pPositions=pPosGrid,pVelocities = pVelGrid, dt=0.05)\n",
    "\n",
    "print(e1.avgKE)\n",
    "\n",
    "e1.showAnimation()\n",
    "\n",
    "print(e1.avgKE)"
   ]
  },
  {
   "cell_type": "code",
   "execution_count": null,
   "id": "c4de5fed-2a0e-4898-b04c-1bd21d6ac220",
   "metadata": {
    "tags": []
   },
   "outputs": [],
   "source": [
    "plt.close(\"all\")"
   ]
  },
  {
   "cell_type": "code",
   "execution_count": null,
   "id": "ee586a2b-9b1f-45f4-977f-f942c2b870f3",
   "metadata": {},
   "outputs": [],
   "source": [
    "np.zeros((4,2))"
   ]
  },
  {
   "cell_type": "code",
   "execution_count": null,
   "id": "6254dc2e-a44f-41fe-b0ac-dbf84a630a2d",
   "metadata": {},
   "outputs": [],
   "source": []
  },
  {
   "cell_type": "code",
   "execution_count": null,
   "id": "217c5930-0fa9-4948-b2ce-3a29a84945ec",
   "metadata": {
    "tags": []
   },
   "outputs": [],
   "source": [
    "d = Disk([2, 2], [3, 3], 1, 1, 1)\n",
    "d1 = Disk([3, 2], [3, 3], 1, 1, 1)\n",
    "\n",
    "print(d < d1)\n",
    "print(d == d1)\n",
    "print(d > d1)\n"
   ]
  },
  {
   "cell_type": "code",
   "execution_count": null,
   "id": "f9ad520c-31b3-4bd3-8c3c-34d031e6694a",
   "metadata": {
    "tags": []
   },
   "outputs": [],
   "source": [
    "#create and test an example disk\n",
    "p = Disk([1,1], [6,8], 3, 2, 1)\n",
    "print(p.speed)\n",
    "print(p.KE)\n",
    "print(p.x)\n",
    "p.advance(2, 20)\n",
    "print(p.speed)\n",
    "print(p.KE)\n",
    "print(p.x)\n",
    "p.advance(1, 20)\n",
    "print(p.speed)\n",
    "print(p.KE)\n",
    "print(p.x)"
   ]
  },
  {
   "cell_type": "code",
   "execution_count": null,
   "id": "8125d556-871f-446d-a75c-38c360447ec9",
   "metadata": {},
   "outputs": [],
   "source": []
  }
 ],
 "metadata": {
  "kernelspec": {
   "display_name": "Python 3 (ipykernel)",
   "language": "python",
   "name": "python3"
  },
  "language_info": {
   "codemirror_mode": {
    "name": "ipython",
    "version": 3
   },
   "file_extension": ".py",
   "mimetype": "text/x-python",
   "name": "python",
   "nbconvert_exporter": "python",
   "pygments_lexer": "ipython3",
   "version": "3.11.3"
  }
 },
 "nbformat": 4,
 "nbformat_minor": 5
}
