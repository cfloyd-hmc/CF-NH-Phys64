{
 "cells": [
  {
   "cell_type": "code",
   "execution_count": 1,
   "id": "40bb7160",
   "metadata": {
    "tags": []
   },
   "outputs": [],
   "source": [
    "%matplotlib widget\n",
    "import numpy as np\n",
    "import matplotlib.pyplot as plt\n",
    "from matplotlib.animation import FuncAnimation\n",
    "import itertools\n",
    "from functools import total_ordering\n",
    "from numpy.random import default_rng\n",
    "\n",
    "#our classes!!! :)\n",
    "from ParticleSim import Disk\n",
    "from ParticleSim import Expt"
   ]
  },
  {
   "cell_type": "code",
   "execution_count": null,
   "id": "af2ebaab-d15d-45e7-86ec-441ca33e5f4c",
   "metadata": {},
   "outputs": [],
   "source": [
    "# TEST CELL FOR showAnimation\n",
    "seed = 42\n",
    "rng = default_rng(seed=seed) # instantiate the default random number generator\n",
    "sqrtNumParts = 4\n",
    "\n",
    "pPosGrid = list(itertools.product(np.linspace(20, 180,sqrtNumParts), np.linspace(20,180,sqrtNumParts)))\n",
    "pVelGrid = list((rng.random(size=(sqrtNumParts**2,2))-.5)*50) #randomize initial velocities\n",
    "\n",
    "particles = [Disk(pPosGrid[i], pVelGrid[i]) for i in range(sqrtNumParts**2)]\n",
    "\n",
    "\n",
    "e1 = Expt(particles, dt=.01, tmax=15, animSpeed=7.5, updateGraphsEvery=5, \n",
    "          potentialType=\"Coul\", doCollisions=False)\n",
    "\n",
    "print(\"Initial KE:\",e1.avgKE)\n",
    "print(\"Initial PE:\",e1.avgPE)\n",
    "print(\"Initial Total E:\",e1.avgE)\n",
    "e1.showAnimation(\"seed = \" + str(seed) + \"     \")\n",
    "print(\"Final KE:\",e1.avgKE)\n",
    "print(\"Final PE:\",e1.avgPE)\n",
    "print(\"Final Total E:\",e1.avgE)"
   ]
  },
  {
   "cell_type": "code",
   "execution_count": null,
   "id": "c4de5fed-2a0e-4898-b04c-1bd21d6ac220",
   "metadata": {
    "tags": []
   },
   "outputs": [],
   "source": [
    "plt.close(\"all\")"
   ]
  },
  {
   "cell_type": "code",
   "execution_count": null,
   "id": "69b959fb-e461-4de5-9803-d89b59cc85ab",
   "metadata": {},
   "outputs": [],
   "source": []
  },
  {
   "cell_type": "code",
   "execution_count": null,
   "id": "45593d15-1040-4ebb-b963-403d328da136",
   "metadata": {},
   "outputs": [],
   "source": []
  },
  {
   "cell_type": "markdown",
   "id": "d20abb08-3330-49df-8fba-5274809d434c",
   "metadata": {},
   "source": [
    "Feel free play some on your own!\n",
    "https://github.com/cfloyd-hmc/CF-NH-Phys64\n",
    "The ParticleSim class is pretty generic, and allows lots of different interactions and different systems.\n",
    "\n",
    "Hard disk collisions, Lennard jones potential, Coulomb potential, particles with different radii, charges, ..."
   ]
  }
 ],
 "metadata": {
  "kernelspec": {
   "display_name": "Python 3",
   "language": "python",
   "name": "python3"
  },
  "language_info": {
   "codemirror_mode": {
    "name": "ipython",
    "version": 3
   },
   "file_extension": ".py",
   "mimetype": "text/x-python",
   "name": "python",
   "nbconvert_exporter": "python",
   "pygments_lexer": "ipython3",
   "version": "3.8.8"
  }
 },
 "nbformat": 4,
 "nbformat_minor": 5
}
