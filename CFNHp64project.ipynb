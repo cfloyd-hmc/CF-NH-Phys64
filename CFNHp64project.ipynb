{
 "cells": [
  {
   "cell_type": "code",
   "execution_count": 63,
   "id": "40bb7160",
   "metadata": {
    "tags": []
   },
   "outputs": [],
   "source": [
    "%matplotlib widget\n",
    "import numpy as np\n",
    "import matplotlib.pyplot as plt\n",
    "from matplotlib.animation import FuncAnimation\n",
    "import itertools\n",
    "from functools import total_ordering\n",
    "from numpy.random import default_rng\n",
    "\n",
    "COUL_FACTOR = 8.988e9 #prefactor in numberator of coulomb force"
   ]
  },
  {
   "cell_type": "code",
   "execution_count": 64,
   "id": "2555dd27",
   "metadata": {
    "tags": []
   },
   "outputs": [],
   "source": [
    "@total_ordering #allows us to only implement lt and eq, imply gt, etc.\n",
    "class Disk:\n",
    "    def __init__(self, x:np.ndarray, v:np.ndarray, mass:float=3, \n",
    "                 radius:float=.5, charge:float=1.602e-3):\n",
    "        self.m = mass\n",
    "        self.r = radius\n",
    "        self.x = np.asarray(x) #x example: array([2, 4])\n",
    "        self.v = np.asarray(v) #v example: array([1.2, -2])\n",
    "        self.nDim = len(self.x)\n",
    "        if self.nDim != len(self.v):\n",
    "            raise Exception(\"Dimensions of velocity and position lists do not match.\")\n",
    "        self.q = charge\n",
    "    \n",
    "    def forceFrom(self, other, L):\n",
    "        #calculates the force vector on self because of other\n",
    "        r = self.x - other.x\n",
    "        r[r > L/2] -= L\n",
    "        r[r < -L/2] += L\n",
    "        return (COUL_FACTOR * self.q * other.q) * r / (np.linalg.norm(r)**3)\n",
    "    \n",
    "    def advance(self, dt:float, L, F=0):\n",
    "        # apply old velocity (update position)\n",
    "        self.x += self.v * dt\n",
    "        self.x = self.x % L\n",
    "        \n",
    "        # apply force (update velocity)\n",
    "        self.v += F * (dt / self.m)\n",
    "    \n",
    "    #allowing comparisons between disk\n",
    "    def __lt__(self, other):\n",
    "        return self.x[0] < other.x[0]\n",
    "    \n",
    "    def __eq__(self, other):\n",
    "        return self.x[0] == other.x[0]\n",
    "    \n",
    "    @property\n",
    "    def speed(self):\n",
    "        return np.linalg.norm(self.v)\n",
    "    \n",
    "    @property\n",
    "    def KE(self):\n",
    "        return (1/2)*self.m*(self.speed**2)\n"
   ]
  },
  {
   "cell_type": "code",
   "execution_count": 74,
   "id": "09435c60",
   "metadata": {
    "tags": []
   },
   "outputs": [],
   "source": [
    "class Expt:\n",
    "    def __init__(self, particles, dt:float=0.1, t_0:float=0, \n",
    "                 tmax:float=15, L:float=200, animSpeed:float=1):\n",
    "        # pPositions example: [ [1, 3], [2, 2] ]: two particles, at (1,3) and (2,2)\n",
    "        \n",
    "        # set time variables\n",
    "        self.t = t_0\n",
    "        self.tmax = tmax\n",
    "        self.dt = dt\n",
    "        self.animSpeed = animSpeed\n",
    "        \n",
    "        # make the particle list\n",
    "        self.particles = np.asarray(particles)\n",
    "        self.numParticles = self.particles.size\n",
    "        self.nDim = self.particles[0].nDim \n",
    "        \n",
    "        #make the box bounds\n",
    "        self.L = L\n",
    "    \n",
    "    def forceBetween(self, p1, p2):\n",
    "        #given two particle IDs/indices, returns the force between them\n",
    "        if p1 == p2: # in future, maybe change to if p1.friendsWith(p2) and\n",
    "                     # have particles have a friends list who they don't push\n",
    "            return 0\n",
    "        else:\n",
    "            return self.particles[p1].forceFrom(self.particles[p2], self.L)\n",
    "    \n",
    "    def nextFrame(self):\n",
    "        #calculate forces in advance\n",
    "        forces = np.zeros_like(self.particlePositions)\n",
    "        \n",
    "        #calculate all particles' interactions\n",
    "        for p1 in range(self.numParticles):\n",
    "            for p2 in range(self.numParticles):\n",
    "                if p1 != p2:\n",
    "                    forces[p1] += self.forceBetween(p1, p2)\n",
    "        \n",
    "        #move particles and apply forces afterwards, to allow simultaneity\n",
    "        forceIter = iter(forces)\n",
    "        for p in self.particles:\n",
    "            p.advance(self.dt, self.L, next(forceIter))\n",
    "        self.t += self.dt\n",
    "    \n",
    "    @property\n",
    "    def totalKE(self):\n",
    "        return sum(p.KE for p in self.particles)\n",
    "    \n",
    "    @property\n",
    "    def avgKE(self):\n",
    "        return self.totalKE / self.numParticles\n",
    "    \n",
    "    @property\n",
    "    def particlePositions(self):\n",
    "        return np.array([p.x for p in self.particles])\n",
    "    \n",
    "    def showAnimation(self, addlTitle=\"\"):\n",
    "        fig, ax = plt.subplots()              # create the figure\n",
    "        ax.set_xlim(0,self.L)              # and adjust axes limits and labels\n",
    "        ax.set_ylim(0,self.L)\n",
    "        ax.set_title(self.t)\n",
    "        xvar = np.linspace(0.1,self.L-0.1,self.numParticles)\n",
    "        points, = ax.plot(xvar,np.ones_like(xvar), 'o')\n",
    "        \n",
    "        def frame(_):\n",
    "            points.set_data(np.transpose(self.particlePositions))\n",
    "            title = ax.set_title(addlTitle + \"t = {:0.2f}\".format(self.t))\n",
    "            self.nextFrame()\n",
    "            \n",
    "            #TODO: make & update graphs\n",
    "            \n",
    "            return points, title \n",
    "\n",
    "        #somewhat glitchy display. IDK how best to fix.\n",
    "        ani = FuncAnimation(fig, frame, np.arange(self.t,self.tmax,self.dt), \n",
    "                            interval=self.dt*1000/self.animSpeed, blit=True,\n",
    "                           repeat=False)\n",
    "        print(\"bouta save animation...\")\n",
    "        ani.save(\"particleAnimation.gif\")\n",
    "        plt.close()\n",
    "    \n",
    "    #idea: makeCopy() function that makes an identical experiment - might be useful to\n",
    "    #let us go to further times or something? idk\n",
    "    "
   ]
  },
  {
   "cell_type": "code",
   "execution_count": 75,
   "id": "671a6d95-679c-4567-8616-2255ae85e4ae",
   "metadata": {
    "tags": []
   },
   "outputs": [
    {
     "name": "stderr",
     "output_type": "stream",
     "text": [
      "MovieWriter ffmpeg unavailable; using Pillow instead.\n"
     ]
    },
    {
     "name": "stdout",
     "output_type": "stream",
     "text": [
      "1.1061298899992347\n",
      "bouta save animation...\n",
      "59.81266602785172\n"
     ]
    },
    {
     "data": {
      "application/vnd.jupyter.widget-view+json": {
       "model_id": "3489ac2b8e104c51bb74d49be984cf27",
       "version_major": 2,
       "version_minor": 0
      },
      "image/png": "[encoded data removed]",
      "text/html": [
       "\n",
       "            <div style=\"display: inline-block;\">\n",
       "                <div class=\"jupyter-widgets widget-label\" style=\"text-align: center;\">\n",
       "                    Figure\n",
       "                </div>\n",
       "                <img src='data:image/png;base64,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' width=640.0/>\n",
       "            </div>\n",
       "        "
      ],
      "text/plain": [
       "Canvas(toolbar=Toolbar(toolitems=[('Home', 'Reset original view', 'home', 'home'), ('Back', 'Back to previous …"
      ]
     },
     "metadata": {},
     "output_type": "display_data"
    }
   ],
   "source": [
    "seed = 42\n",
    "rng = default_rng(seed=seed) # instatiate the default random number generator\n",
    "sqrtNumParts = 5\n",
    "\n",
    "pPosGrid = list(itertools.product(np.linspace(20, 180,sqrtNumParts), np.linspace(20,180,sqrtNumParts)))\n",
    "pVelGrid = list(rng.random(size=(sqrtNumParts**2,2))*1) #slightly randomize initial velocities\n",
    "\n",
    "particles = [Disk(pPosGrid[i], pVelGrid[i]) for i in range(sqrtNumParts**2)][:-1]\n",
    "\n",
    "e1 = Expt(particles, dt=0.1, tmax=15, animSpeed=0.5)\n",
    "\n",
    "print(e1.avgKE)\n",
    "e1.showAnimation(\"seed = \" + str(seed) + \"     \")\n",
    "print(e1.avgKE)"
   ]
  },
  {
   "cell_type": "code",
   "execution_count": 73,
   "id": "c4de5fed-2a0e-4898-b04c-1bd21d6ac220",
   "metadata": {
    "tags": []
   },
   "outputs": [],
   "source": [
    "plt.close(\"all\")"
   ]
  },
  {
   "cell_type": "code",
   "execution_count": 39,
   "id": "f9ad520c-31b3-4bd3-8c3c-34d031e6694a",
   "metadata": {
    "tags": []
   },
   "outputs": [
    {
     "name": "stdout",
     "output_type": "stream",
     "text": [
      "True\n",
      "False\n",
      "False\n",
      "10.0\n",
      "150.0\n",
      "[1 1]\n"
     ]
    }
   ],
   "source": [
    "#create and test an example disk\n",
    "p = Disk([1,1], [6,8], 3, 2, 1)\n",
    "p1 = Disk([3, 2], [3, 3], 1, 1, 1)\n",
    "\n",
    "print(p < p1)\n",
    "print(p == p1)\n",
    "print(p > p1)\n",
    "print(p.speed)\n",
    "print(p.KE)\n",
    "print(p.x)"
   ]
  },
  {
   "cell_type": "code",
   "execution_count": null,
   "id": "a975bf44-13ef-484d-90b3-354281905a40",
   "metadata": {},
   "outputs": [],
   "source": []
  }
 ],
 "metadata": {
  "kernelspec": {
   "display_name": "Python 3",
   "language": "python",
   "name": "python3"
  },
  "language_info": {
   "codemirror_mode": {
    "name": "ipython",
    "version": 3
   },
   "file_extension": ".py",
   "mimetype": "text/x-python",
   "name": "python",
   "nbconvert_exporter": "python",
   "pygments_lexer": "ipython3",
   "version": "3.8.8"
  }
 },
 "nbformat": 4,
 "nbformat_minor": 5
}
