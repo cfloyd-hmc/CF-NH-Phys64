{
 "cells": [
  {
   "cell_type": "code",
   "execution_count": 71,
   "id": "40bb7160",
   "metadata": {
    "tags": []
   },
   "outputs": [],
   "source": [
    "%matplotlib widget\n",
    "import numpy as np\n",
    "import matplotlib.pyplot as plt\n",
    "from matplotlib.animation import FuncAnimation\n",
    "import itertools\n",
    "from functools import total_ordering\n",
    "from numpy.random import default_rng\n",
    "\n",
    "COUL_FACTOR = 8.988e9 #prefactor in numberator of coulomb force"
   ]
  },
  {
   "cell_type": "code",
   "execution_count": 72,
   "id": "2555dd27",
   "metadata": {
    "tags": []
   },
   "outputs": [],
   "source": [
    "@total_ordering #allows us to only implement lt and eq, imply gt, etc.\n",
    "class Disk:\n",
    "    def __init__(self, x:np.ndarray, v:np.ndarray, mass:float=3, \n",
    "                 radius:float=.5, charge:float=1.602e-9):\n",
    "        self.m = mass\n",
    "        self.r = radius\n",
    "        self.x = np.asarray(x) #x example: array([2, 4, 6)\n",
    "        self.v = np.asarray(v) #v example: array([1, -1, 1])\n",
    "        self.nDim = len(self.x)\n",
    "        if self.nDim != len(self.v):\n",
    "            raise Exception(\"Dimensions of velocity and position lists do not match.\")\n",
    "        self.q = charge\n",
    "    \n",
    "    def distFrom(self,other):\n",
    "        #note: this isn't true!\n",
    "        return self.x - other.x\n",
    "    \n",
    "    def forceFrom(self, other):\n",
    "        #calculates the force vector on self because of other\n",
    "        return (COUL_FACTOR * self.q * other.q) / (\n",
    "            np.linalg.norm(self.distFrom(other))**2)\n",
    "    \n",
    "    def advance(self, dt:float, L, F=0):\n",
    "        # apply old velocity (update position)\n",
    "        self.x += self.v * dt\n",
    "        self.x = self.x % L\n",
    "        \n",
    "        # apply force (update velocity)\n",
    "        self.v += F * (dt / self.m)\n",
    "    \n",
    "    #allowing comparisons between disk\n",
    "    def __lt__(self, other):\n",
    "        return self.x[0] < other.x[0]\n",
    "    \n",
    "    def __eq__(self, other):\n",
    "        return self.x[0] == other.x[0]\n",
    "    \n",
    "    @property\n",
    "    def speed(self):\n",
    "        return np.linalg.norm(self.v)\n",
    "    \n",
    "    @property\n",
    "    def KE(self):\n",
    "        return (1/2)*self.m*(self.speed**2)\n"
   ]
  },
  {
   "cell_type": "code",
   "execution_count": 73,
   "id": "09435c60",
   "metadata": {
    "tags": []
   },
   "outputs": [],
   "source": [
    "class Expt:\n",
    "    def __init__(self, particles, dt:float=0.1, t_0:float=0, \n",
    "                 tmax:float=15, L:float=200, animSpeed:float=1):\n",
    "        # pPositions example: [ [1, 3], [2, 2] ]: two particles, at (1,3) and (2,2)\n",
    "        \n",
    "        # set time variables\n",
    "        self.t = t_0\n",
    "        self.tmax = tmax\n",
    "        self.dt = dt\n",
    "        self.animSpeed = animSpeed\n",
    "        \n",
    "        # make the particle list\n",
    "        self.particles = np.asarray(particles)\n",
    "        self.numParticles = self.particles.size\n",
    "        self.nDim = self.particles[0].nDim \n",
    "        \n",
    "        #make the box bounds\n",
    "        self.L = L\n",
    "    \n",
    "    def forceBetween(self, p1, p2):\n",
    "        #given two particle IDs/indices, returns the force between them\n",
    "        if p1 == p2: # in future, maybe change to if p1.friendsWith(p2) and\n",
    "                     # have particles have a friends list who they don't push\n",
    "            return 0\n",
    "        else:\n",
    "            return self.particles[p1].forceFrom(self.particles[p2])\n",
    "    \n",
    "    def nextFrame(self):\n",
    "        #calculate forces in advance\n",
    "        forces = np.zeros_like(self.particlePositions)\n",
    "        \n",
    "        #calculate all particles' interactions\n",
    "        for p1 in range(self.numParticles):\n",
    "            for p2 in range(self.numParticles):\n",
    "                if p1 != p2:\n",
    "                    forces[p1] += self.forceBetween(p1, p2)\n",
    "        \n",
    "        #move particles and apply forces afterwards, to allow simultaneity\n",
    "        forceIter = iter(forces)\n",
    "        for p in self.particles:\n",
    "            p.advance(self.dt, self.L, next(forceIter))\n",
    "        self.t += self.dt\n",
    "    \n",
    "    @property\n",
    "    def totalKE(self):\n",
    "        return sum(p.KE for p in self.particles)\n",
    "    \n",
    "    @property\n",
    "    def avgKE(self):\n",
    "        return self.totalKE / self.numParticles\n",
    "    \n",
    "    @property\n",
    "    def particlePositions(self):\n",
    "        return np.array([p.x for p in self.particles])\n",
    "    \n",
    "    def showAnimation(self, addlTitle=\"\"):\n",
    "        fig, ax = plt.subplots()              # create the figure\n",
    "        ax.set_xlim(0,self.L)              # and adjust axes limits and labels\n",
    "        ax.set_ylim(0,self.L)\n",
    "        ax.set_title(self.t)\n",
    "        xvar = np.linspace(0.1,self.L-0.1,self.numParticles)\n",
    "        points, = ax.plot(xvar,np.ones_like(xvar), 'o')\n",
    "        \n",
    "        def frame(_):\n",
    "            points.set_data(np.transpose(self.particlePositions))\n",
    "            title = ax.set_title(addlTitle + \"t = {:0.2f}\".format(self.t))\n",
    "            self.nextFrame()\n",
    "            \n",
    "            #TODO: make & update graphs\n",
    "            \n",
    "            return points, title \n",
    "\n",
    "        #somewhat glitchy display. IDK how best to fix.\n",
    "        ani = FuncAnimation(fig, frame, np.arange(self.t,self.tmax,self.dt), \n",
    "                            interval=self.dt*1000/self.animSpeed, blit=True)\n",
    "        ani.save(\"particleAnimation.gif\")\n",
    "    \n",
    "    #idea: makeCopy() function that makes an identical experiment - might be useful to\n",
    "    #let us go to further times or something? idk\n",
    "    "
   ]
  },
  {
   "cell_type": "code",
   "execution_count": 74,
   "id": "671a6d95-679c-4567-8616-2255ae85e4ae",
   "metadata": {
    "tags": []
   },
   "outputs": [
    {
     "name": "stderr",
     "output_type": "stream",
     "text": [
      "MovieWriter ffmpeg unavailable; using Pillow instead.\n"
     ]
    },
    {
     "name": "stdout",
     "output_type": "stream",
     "text": [
      "0.00011733514144678508\n",
      "0.00011733514413854045\n"
     ]
    },
    {
     "data": {
      "application/vnd.jupyter.widget-view+json": {
       "model_id": "6fd9c120efa24e4998e143ad88add33c",
       "version_major": 2,
       "version_minor": 0
      },
      "image/png": "[encoded data removed]",
      "text/html": [
       "\n",
       "            <div style=\"display: inline-block;\">\n",
       "                <div class=\"jupyter-widgets widget-label\" style=\"text-align: center;\">\n",
       "                    Figure\n",
       "                </div>\n",
       "                <img src='data:image/png;base64,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' width=640.0/>\n",
       "            </div>\n",
       "        "
      ],
      "text/plain": [
       "Canvas(toolbar=Toolbar(toolitems=[('Home', 'Reset original view', 'home', 'home'), ('Back', 'Back to previous …"
      ]
     },
     "metadata": {},
     "output_type": "display_data"
    }
   ],
   "source": [
    "seed = 42\n",
    "rng = default_rng(seed=seed) # instatiate the default random number generator\n",
    "sqrtNumParts = 3\n",
    "\n",
    "pPosGrid = list(itertools.product(np.linspace(5, 95,sqrtNumParts), np.linspace(5,95,sqrtNumParts)))\n",
    "pVelGrid = list(rng.random(size=(sqrtNumParts**2,2))*0.1) #slightly randomize initial velocities\n",
    "\n",
    "particles = [Disk(pPosGrid[i], pVelGrid[i]) for i in range(sqrtNumParts**2)]\n",
    "\n",
    "e1 = Expt(particles, dt=0.05, tmax=5, animSpeed=1)\n",
    "\n",
    "print(e1.avgKE)\n",
    "e1.showAnimation(\"seed = \" + str(seed) + \"     \")\n",
    "print(e1.avgKE)"
   ]
  },
  {
   "cell_type": "code",
   "execution_count": 75,
   "id": "c4de5fed-2a0e-4898-b04c-1bd21d6ac220",
   "metadata": {
    "tags": []
   },
   "outputs": [],
   "source": [
    "plt.close(\"all\")"
   ]
  },
  {
   "cell_type": "code",
   "execution_count": null,
   "id": "f9ad520c-31b3-4bd3-8c3c-34d031e6694a",
   "metadata": {
    "tags": []
   },
   "outputs": [],
   "source": [
    "#create and test an example disk\n",
    "p = Disk([1,1], [6,8], 3, 2, 1)\n",
    "p1 = Disk([3, 2], [3, 3], 1, 1, 1)\n",
    "\n",
    "print(p < p1)\n",
    "print(p == p1)\n",
    "print(p > p1)\n",
    "print(p.speed)\n",
    "print(p.KE)\n",
    "print(p.x)\n",
    "p.advance(2, 20)\n",
    "print(p.speed)\n",
    "print(p.KE)\n",
    "print(p.x)\n",
    "p.advance(1, 20)\n",
    "print(p.speed)\n",
    "print(p.KE)\n",
    "print(p.x)"
   ]
  },
  {
   "cell_type": "code",
   "execution_count": null,
   "id": "a975bf44-13ef-484d-90b3-354281905a40",
   "metadata": {},
   "outputs": [],
   "source": []
  }
 ],
 "metadata": {
  "kernelspec": {
   "display_name": "Python 3",
   "language": "python",
   "name": "python3"
  },
  "language_info": {
   "codemirror_mode": {
    "name": "ipython",
    "version": 3
   },
   "file_extension": ".py",
   "mimetype": "text/x-python",
   "name": "python",
   "nbconvert_exporter": "python",
   "pygments_lexer": "ipython3",
   "version": "3.8.8"
  }
 },
 "nbformat": 4,
 "nbformat_minor": 5
}
