{
 "cells": [
  {
   "cell_type": "code",
   "execution_count": 1,
   "id": "40bb7160",
   "metadata": {
    "tags": []
   },
   "outputs": [],
   "source": [
    "%matplotlib widget\n",
    "import numpy as np\n",
    "import matplotlib.pyplot as plt\n",
    "from matplotlib.animation import FuncAnimation\n",
    "import itertools\n",
    "from functools import total_ordering\n",
    "from numpy.random import default_rng\n",
    "\n",
    "COUL_FACTOR = 8.988e9 #prefactor in numberator of coulomb force"
   ]
  },
  {
   "cell_type": "code",
   "execution_count": 2,
   "id": "2555dd27",
   "metadata": {
    "tags": []
   },
   "outputs": [],
   "source": [
    "@total_ordering #allows us to only implement lt and eq, imply gt, etc.\n",
    "class Disk:\n",
    "    def __init__(self, x:np.ndarray, v:np.ndarray, mass:float=3, \n",
    "                 radius:float=.5, charge:float=1.602e-3):\n",
    "        self.m = mass\n",
    "        self.r = radius\n",
    "        self.x = np.asarray(x) #x example: array([2, 4])\n",
    "        self.v = np.asarray(v) #v example: array([1.2, -2])\n",
    "        self.nDim = len(self.x)\n",
    "        if self.nDim != len(self.v):\n",
    "            raise Exception(\"Dimensions of velocity and position lists do not match.\")\n",
    "        self.q = charge\n",
    "    \n",
    "    def forceFrom(self, other, L):\n",
    "        #calculates the force vector on self because of other\n",
    "        r = self.x - other.x\n",
    "        r[r > L/2] -= L\n",
    "        r[r < -L/2] += L\n",
    "        return (COUL_FACTOR * self.q * other.q) * r / (np.linalg.norm(r)**3)\n",
    "    \n",
    "    def advance(self, dt:float, L, F=0):\n",
    "        # apply old velocity (update position)\n",
    "        self.x += self.v * dt\n",
    "        self.x = self.x % L\n",
    "        \n",
    "        # apply force (update velocity)\n",
    "        self.v += F * (dt / self.m)\n",
    "    \n",
    "    #allowing comparisons between disk\n",
    "    def __lt__(self, other):\n",
    "        return self.x[0] < other.x[0]\n",
    "    \n",
    "    def __eq__(self, other):\n",
    "        return self.x[0] == other.x[0]\n",
    "    \n",
    "    @property\n",
    "    def speed(self):\n",
    "        return np.linalg.norm(self.v)\n",
    "    \n",
    "    @property\n",
    "    def KE(self):\n",
    "        return (1/2)*self.m*(self.speed**2)\n"
   ]
  },
  {
   "cell_type": "code",
   "execution_count": 22,
   "id": "09435c60",
   "metadata": {
    "tags": []
   },
   "outputs": [],
   "source": [
    "class Expt:\n",
    "    def __init__(self, particles, dt:float=0.1, t_0:float=0, \n",
    "                 tmax:float=15, L:float=200, animSpeed:float=1):\n",
    "        # pPositions example: [ [1, 3], [2, 2] ]: two particles, at (1,3) and (2,2)\n",
    "        \n",
    "        # set time variables\n",
    "        self.t = t_0\n",
    "        self.tmax = tmax\n",
    "        self.dt = dt\n",
    "        self.animSpeed = animSpeed\n",
    "        \n",
    "        # make the particle list\n",
    "        self.particles = np.asarray(particles)\n",
    "        self.numParticles = self.particles.size\n",
    "        self.nDim = self.particles[0].nDim \n",
    "        \n",
    "        #make the box bounds\n",
    "        self.L = L\n",
    "    \n",
    "    def forceBetween(self, p1, p2):\n",
    "        #given two particle IDs/indices, returns the force between them\n",
    "        if p1 == p2: # in future, maybe change to if p1.friendsWith(p2) and\n",
    "                     # have particles have a friends list who they don't push\n",
    "            return 0\n",
    "        else:\n",
    "            return self.particles[p1].forceFrom(self.particles[p2], self.L)\n",
    "    \n",
    "    def nextFrame(self):\n",
    "        #calculate forces in advance\n",
    "        forces = np.zeros_like(self.particlePositions)\n",
    "        \n",
    "        #calculate all particles' interactions\n",
    "        for p1 in range(self.numParticles):\n",
    "            for p2 in range(self.numParticles):\n",
    "                if p1 != p2:\n",
    "                    forces[p1] += self.forceBetween(p1, p2)\n",
    "        \n",
    "        #move particles and apply forces afterwards, to allow simultaneity\n",
    "        forceIter = iter(forces)\n",
    "        for p in self.particles:\n",
    "            p.advance(self.dt, self.L, next(forceIter))\n",
    "        self.t += self.dt\n",
    "    \n",
    "    @property\n",
    "    def totalKE(self):\n",
    "        return sum(p.KE for p in self.particles)\n",
    "    \n",
    "    @property\n",
    "    def avgKE(self):\n",
    "        return self.totalKE / self.numParticles\n",
    "    \n",
    "    @property\n",
    "    def particlePositions(self):\n",
    "        return np.array([p.x for p in self.particles])\n",
    "    \n",
    "    def showAnimation(self, addlTitle=\"\"):\n",
    "        fig, ax = plt.subplots()              # create the figure\n",
    "        ax.set_xlim(0,self.L)              # and adjust axes limits and labels\n",
    "        ax.set_ylim(0,self.L)\n",
    "        ax.set_title(self.t)\n",
    "        xvar = np.linspace(0.1,self.L-0.1,self.numParticles)\n",
    "        points, = ax.plot(xvar,np.ones_like(xvar), 'o')\n",
    "        \n",
    "        def frame(_):\n",
    "            points.set_data(np.transpose(self.particlePositions))\n",
    "            title = ax.set_title(addlTitle + \"t = {:0.2f}\".format(self.t))\n",
    "            self.nextFrame()\n",
    "            \n",
    "            #TODO: make & update graphs\n",
    "            \n",
    "            return points, title \n",
    "\n",
    "        #somewhat glitchy display. IDK how best to fix.\n",
    "        ani = FuncAnimation(fig, frame, np.arange(self.t,self.tmax,self.dt), \n",
    "                            interval=self.dt*1000/self.animSpeed, blit=True,\n",
    "                           repeat=False)\n",
    "        print(\"bouta save animation...\")\n",
    "        ani.save(\"particleAnimation.gif\")\n",
    "        plt.close()\n",
    "    \n",
    "    #idea: makeCopy() function that makes an identical experiment - might be useful to\n",
    "    #let us go to further times or something? idk\n",
    "    \n",
    "    def getKEs(self):\n",
    "        \"\"\"\n",
    "        Returns a list of the particles' potential energies in the current frame.\n",
    "        \"\"\"\n",
    "        for particle in self.particles:\n",
    "            KEs = []\n",
    "            KEs += [particle.KE]\n",
    "        return KEs\n",
    "                \n",
    "    def showAnimation1(self, addlTitle=\"\"):\n",
    "        \"\"\"\n",
    "        Modified version of showAnimation that creates a histogram of the particles' kinetic energies.\n",
    "        \"\"\"\n",
    "        \n",
    "        fig, (ax1, ax2) = plt.subplots(1, 2)              # create the figure\n",
    "        ax1.set_xlim(0,self.L)              # and adjust axes limits and labels\n",
    "        ax1.set_ylim(0,self.L)\n",
    "        ax1.set_title(self.t)\n",
    "        xvar = np.linspace(0.1,self.L-0.1,self.numParticles)\n",
    "        points, = ax1.plot(xvar,np.ones_like(xvar), 'o')\n",
    "        \n",
    "        KEs = self.getKEs()\n",
    "        \n",
    "        def frame(_):\n",
    "            points.set_data(np.transpose(self.particlePositions))\n",
    "            title = ax1.set_title(addlTitle + \"t = {:0.2f}\".format(self.t))\n",
    "            self.nextFrame()\n",
    "            \n",
    "            KEs = self.getKEs()\n",
    "            \n",
    "            #ax2.clear()\n",
    "            ax2.hist(KEs, bins = 5, color = 'black', histtype = 'step', stacked = True);\n",
    "            \n",
    "            #TODO: make & update graphs\n",
    "            \n",
    "            return points, title \n",
    "\n",
    "        #somewhat glitchy display. IDK how best to fix.\n",
    "        ani = FuncAnimation(fig, frame, np.arange(self.t,self.tmax,self.dt), \n",
    "                            interval=self.dt*1000/self.animSpeed, blit=True,\n",
    "                           repeat=False)\n",
    "        print(\"bouta save animation...\")\n",
    "        ani.save(\"particleAnimation.gif\")\n",
    "        plt.close()"
   ]
  },
  {
   "cell_type": "code",
   "execution_count": 8,
   "id": "671a6d95-679c-4567-8616-2255ae85e4ae",
   "metadata": {
    "tags": []
   },
   "outputs": [
    {
     "name": "stderr",
     "output_type": "stream",
     "text": [
      "MovieWriter ffmpeg unavailable; using Pillow instead.\n"
     ]
    },
    {
     "name": "stdout",
     "output_type": "stream",
     "text": [
      "1.1061298899992347\n",
      "bouta save animation...\n",
      "59.81266602785172\n"
     ]
    }
   ],
   "source": [
    "seed = 42\n",
    "rng = default_rng(seed=seed) # instatiate the default random number generator\n",
    "sqrtNumParts = 5\n",
    "\n",
    "pPosGrid = list(itertools.product(np.linspace(20, 180,sqrtNumParts), np.linspace(20,180,sqrtNumParts)))\n",
    "pVelGrid = list(rng.random(size=(sqrtNumParts**2,2))*1) #slightly randomize initial velocities\n",
    "\n",
    "particles = [Disk(pPosGrid[i], pVelGrid[i]) for i in range(sqrtNumParts**2)][:-1]\n",
    "\n",
    "e1 = Expt(particles, dt=0.1, tmax=15, animSpeed=0.5)\n",
    "\n",
    "print(e1.avgKE)\n",
    "e1.showAnimation(\"seed = \" + str(seed) + \"     \")\n",
    "print(e1.avgKE)"
   ]
  },
  {
   "cell_type": "code",
   "execution_count": null,
   "id": "af2ebaab-d15d-45e7-86ec-441ca33e5f4c",
   "metadata": {},
   "outputs": [
    {
     "name": "stderr",
     "output_type": "stream",
     "text": [
      "MovieWriter ffmpeg unavailable; using Pillow instead.\n"
     ]
    },
    {
     "name": "stdout",
     "output_type": "stream",
     "text": [
      "1.1061298899992347\n",
      "bouta save animation...\n"
     ]
    }
   ],
   "source": [
    "# TEST CELL FOR showAnimation1\n",
    "seed = 42\n",
    "rng = default_rng(seed=seed) # instatiate the default random number generator\n",
    "sqrtNumParts = 5\n",
    "\n",
    "pPosGrid = list(itertools.product(np.linspace(20, 180,sqrtNumParts), np.linspace(20,180,sqrtNumParts)))\n",
    "pVelGrid = list(rng.random(size=(sqrtNumParts**2,2))*1) #slightly randomize initial velocities\n",
    "\n",
    "particles = [Disk(pPosGrid[i], pVelGrid[i]) for i in range(sqrtNumParts**2)][:-1]\n",
    "\n",
    "e1 = Expt(particles, dt=0.1, tmax=15, animSpeed=0.5)\n",
    "\n",
    "print(e1.avgKE)\n",
    "e1.showAnimation1(\"seed = \" + str(seed) + \"     \")\n",
    "print(e1.avgKE)"
   ]
  },
  {
   "cell_type": "code",
   "execution_count": 73,
   "id": "c4de5fed-2a0e-4898-b04c-1bd21d6ac220",
   "metadata": {
    "tags": []
   },
   "outputs": [],
   "source": [
    "plt.close(\"all\")"
   ]
  },
  {
   "cell_type": "code",
   "execution_count": 39,
   "id": "f9ad520c-31b3-4bd3-8c3c-34d031e6694a",
   "metadata": {
    "tags": []
   },
   "outputs": [
    {
     "name": "stdout",
     "output_type": "stream",
     "text": [
      "True\n",
      "False\n",
      "False\n",
      "10.0\n",
      "150.0\n",
      "[1 1]\n"
     ]
    }
   ],
   "source": [
    "#create and test an example disk\n",
    "p = Disk([1,1], [6,8], 3, 2, 1)\n",
    "p1 = Disk([3, 2], [3, 3], 1, 1, 1)\n",
    "\n",
    "print(p < p1)\n",
    "print(p == p1)\n",
    "print(p > p1)\n",
    "print(p.speed)\n",
    "print(p.KE)\n",
    "print(p.x)"
   ]
  },
  {
   "cell_type": "code",
   "execution_count": null,
   "id": "a975bf44-13ef-484d-90b3-354281905a40",
   "metadata": {},
   "outputs": [],
   "source": []
  }
 ],
 "metadata": {
  "kernelspec": {
   "display_name": "Python 3",
   "language": "python",
   "name": "python3"
  },
  "language_info": {
   "codemirror_mode": {
    "name": "ipython",
    "version": 3
   },
   "file_extension": ".py",
   "mimetype": "text/x-python",
   "name": "python",
   "nbconvert_exporter": "python",
   "pygments_lexer": "ipython3",
   "version": "3.8.8"
  }
 },
 "nbformat": 4,
 "nbformat_minor": 5
}
