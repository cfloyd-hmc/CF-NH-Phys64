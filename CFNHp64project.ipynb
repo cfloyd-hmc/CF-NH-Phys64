{
 "cells": [
  {
   "cell_type": "code",
   "execution_count": 1,
   "id": "40bb7160",
   "metadata": {
    "tags": []
   },
   "outputs": [],
   "source": [
    "%matplotlib widget\n",
    "import numpy as np                  # This is the standard way of importing numpy\n",
    "import matplotlib.pyplot as plt     # and this is the usual way to load matplotlib\n",
    "import pandas as pd                 # Pandas is convenient for tabular data\n",
    "from matplotlib.animation import FuncAnimation\n",
    "import itertools\n",
    "from functools import total_ordering\n",
    "try:\n",
    "    from rich.progress import track\n",
    "except:\n",
    "    track = lambda x: x"
   ]
  },
  {
   "cell_type": "code",
   "execution_count": 2,
   "id": "2555dd27",
   "metadata": {
    "tags": []
   },
   "outputs": [],
   "source": [
    "@total_ordering #allows us to only implement lt and eq, imply gt, etc.\n",
    "class Disk:\n",
    "    def __init__(self, x:np.ndarray, v:np.ndarray, mass:float, radius:float, \n",
    "                 charge:float):\n",
    "        self.mass = mass\n",
    "        self.radius = radius\n",
    "        self.x = np.asarray(x) #x example: array([2, 4, 6)\n",
    "        self.v = np.asarray(v) #v example: array([1, -1, 1])\n",
    "        self.nDim = len(self.x)\n",
    "        if self.nDim != len(self.v):\n",
    "            raise Exception(\"Dimensions of velocity and position lists do not match.\")\n",
    "        self.charge = charge\n",
    "    \n",
    "    \n",
    "    def advance(self, t:float, L, F=None):\n",
    "        # apply old velocity (update position)\n",
    "        self.x += self.v * t\n",
    "        self.x = self.x % L\n",
    "        \n",
    "        if F: # apply force (update velocity)\n",
    "            # TODO: update self.v\n",
    "            pass\n",
    "    \n",
    "    #allowing comparisons between disk\n",
    "    def __lt__(self, other):\n",
    "        return self.x[0] < other.x[0]\n",
    "    \n",
    "    def __eq__(self, other):\n",
    "        return self.x[0] == other.x[0]\n",
    "    \n",
    "    @property\n",
    "    def speed(self):\n",
    "        return np.linalg.norm(self.v)\n",
    "    \n",
    "    @property\n",
    "    def KE(self):\n",
    "        return (1/2)*self.mass*(self.speed**2)\n"
   ]
  },
  {
   "cell_type": "code",
   "execution_count": 3,
   "id": "09435c60",
   "metadata": {
    "tags": []
   },
   "outputs": [],
   "source": [
    "class Expt:\n",
    "    def __init__(self, pPositions:list, pVelocities:list, pMass:float=3, pRadius:float=0.5, \n",
    "                 pCharge:float=1, dt:float=0.1, tmax:float=15, L:float=20):\n",
    "        # pPositions example: [ [1, 3], [2, 2] ]: two particles, at (1,3) and (2,2)\n",
    "        \n",
    "        #eventually, get rid of pRadius, pMass etc, and just pass in a list of particles\n",
    "        #this is needed so that we will can have particles of different sizes, masses, etc.\n",
    "        \n",
    "        # set time variables\n",
    "        self.t = 0\n",
    "        self.tmax = tmax\n",
    "        self.dt = dt\n",
    "        \n",
    "        # make the particle list\n",
    "        self.numParticles = len(pPositions)\n",
    "                \n",
    "        if len(pVelocities) != self.numParticles:\n",
    "            raise Exception(\"number of particles mismatched between position and velocity lists\")\n",
    "        \n",
    "        self.particles = [Disk(x=pPositions[i], v=pVelocities[i],mass=pMass,radius=pRadius, charge=pCharge)\n",
    "                          for i in range(self.numParticles)]\n",
    "        \n",
    "        self.nDim = self.particles[0].nDim\n",
    "        \n",
    "        #make the box bounds\n",
    "        self.L = L\n",
    "    \n",
    "    def nextFrame(self):\n",
    "        for p in self.particles: \n",
    "            p.advance(self.dt, self.L)\n",
    "        self.t += self.dt\n",
    "    \n",
    "    @property\n",
    "    def totalKE(self):\n",
    "        return sum(p.KE for p in self.particles)\n",
    "    \n",
    "    @property\n",
    "    def avgKE(self):\n",
    "        return self.totalKE / self.numParticles\n",
    "    \n",
    "    @property\n",
    "    def particlePositions(self):\n",
    "        return np.array([p.x for p in self.particles])\n",
    "\n",
    "    #TODO: implement animation. For inspiration, we might use the \"Relaxation method\" code?\n",
    "    #that seems like it would work well, but IDK yet. TODO TODO FIXME\n",
    "    \n",
    "    def showAnimation(self):\n",
    "        fig, ax = plt.subplots()              # create the figure\n",
    "        ax.set_xlim(0,self.L)              # and adjust axes limits and labels\n",
    "        ax.set_ylim(0,self.L)\n",
    "        ax.set_axis_off()\n",
    "        ax.set_title(self.t)\n",
    "        xvar = np.linspace(0.1,self.L-0.1,self.numParticles)\n",
    "        points, = ax.plot(xvar,np.zeros_like(xvar), 'o')   # create the trace, saving in a variable\n",
    "                                              # Note the comma; the ax.plot call returns a list\n",
    "        \n",
    "        def frame(t):\n",
    "            points.set_data(np.transpose(self.particlePositions))\n",
    "            title = ax.set_title(\"t = {:0.2f}\".format(t))\n",
    "            self.nextFrame()\n",
    "            return points, title\n",
    "\n",
    "        ani = FuncAnimation(fig, frame, np.arange(self.t,self.tmax,self.dt), interval=self.dt*1000, blit=True)\n",
    "        ani.save(\"particleAnimation.gif\")\n",
    "    \n",
    "    #idea: makeCopy() function that makes an identical experiment - might be useful to\n",
    "    #let us go to further times or something? idk\n",
    "    "
   ]
  },
  {
   "cell_type": "code",
   "execution_count": 5,
   "id": "671a6d95-679c-4567-8616-2255ae85e4ae",
   "metadata": {
    "tags": []
   },
   "outputs": [
    {
     "name": "stderr",
     "output_type": "stream",
     "text": [
      "MovieWriter ffmpeg unavailable; using Pillow instead.\n"
     ]
    },
    {
     "name": "stdout",
     "output_type": "stream",
     "text": [
      "1.1428571428571415\n",
      "1.1428571428571415\n"
     ]
    },
    {
     "data": {
      "application/vnd.jupyter.widget-view+json": {
       "model_id": "31fab065b97d4d30afe79f2b7621680e",
       "version_major": 2,
       "version_minor": 0
      },
      "image/png": "[encoded data removed]",
      "text/html": [
       "\n",
       "            <div style=\"display: inline-block;\">\n",
       "                <div class=\"jupyter-widgets widget-label\" style=\"text-align: center;\">\n",
       "                    Figure\n",
       "                </div>\n",
       "                <img src='data:image/png;base64,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' width=640.0/>\n",
       "            </div>\n",
       "        "
      ],
      "text/plain": [
       "Canvas(toolbar=Toolbar(toolitems=[('Home', 'Reset original view', 'home', 'home'), ('Back', 'Back to previous …"
      ]
     },
     "metadata": {},
     "output_type": "display_data"
    }
   ],
   "source": [
    "pPosGrid = list(itertools.product(np.linspace(1,5,15), np.linspace(1,5,15)))\n",
    "pVelGrid = list(itertools.product(np.linspace(-1,1,15), np.linspace(-1,1,15)))\n",
    "\n",
    "e1 = Expt(pPositions=pPosGrid,pVelocities = pVelGrid, dt=0.05)\n",
    "\n",
    "print(e1.avgKE)\n",
    "\n",
    "e1.showAnimation()\n",
    "\n",
    "print(e1.avgKE)"
   ]
  },
  {
   "cell_type": "code",
   "execution_count": null,
   "id": "c4de5fed-2a0e-4898-b04c-1bd21d6ac220",
   "metadata": {
    "tags": []
   },
   "outputs": [],
   "source": [
    "plt.close(\"all\")"
   ]
  },
  {
   "cell_type": "code",
   "execution_count": null,
   "id": "ee586a2b-9b1f-45f4-977f-f942c2b870f3",
   "metadata": {},
   "outputs": [],
   "source": [
    "np.zeros((4,2))"
   ]
  },
  {
   "cell_type": "code",
   "execution_count": null,
   "id": "6254dc2e-a44f-41fe-b0ac-dbf84a630a2d",
   "metadata": {},
   "outputs": [],
   "source": []
  },
  {
   "cell_type": "code",
   "execution_count": null,
   "id": "217c5930-0fa9-4948-b2ce-3a29a84945ec",
   "metadata": {
    "tags": []
   },
   "outputs": [],
   "source": [
    "d = Disk([2, 2], [3, 3], 1, 1, 1)\n",
    "d1 = Disk([3, 2], [3, 3], 1, 1, 1)\n",
    "\n",
    "print(d < d1)\n",
    "print(d == d1)\n",
    "print(d > d1)\n"
   ]
  },
  {
   "cell_type": "code",
   "execution_count": null,
   "id": "f9ad520c-31b3-4bd3-8c3c-34d031e6694a",
   "metadata": {
    "tags": []
   },
   "outputs": [],
   "source": [
    "#create and test an example disk\n",
    "p = Disk([1,1], [6,8], 3, 2, 1)\n",
    "print(p.speed)\n",
    "print(p.KE)\n",
    "print(p.x)\n",
    "p.advance(2, 20)\n",
    "print(p.speed)\n",
    "print(p.KE)\n",
    "print(p.x)\n",
    "p.advance(1, 20)\n",
    "print(p.speed)\n",
    "print(p.KE)\n",
    "print(p.x)"
   ]
  },
  {
   "cell_type": "code",
   "execution_count": null,
   "id": "8125d556-871f-446d-a75c-38c360447ec9",
   "metadata": {},
   "outputs": [],
   "source": []
  }
 ],
 "metadata": {
  "kernelspec": {
   "display_name": "Python 3 (ipykernel)",
   "language": "python",
   "name": "python3"
  },
  "language_info": {
   "codemirror_mode": {
    "name": "ipython",
    "version": 3
   },
   "file_extension": ".py",
   "mimetype": "text/x-python",
   "name": "python",
   "nbconvert_exporter": "python",
   "pygments_lexer": "ipython3",
   "version": "3.11.3"
  }
 },
 "nbformat": 4,
 "nbformat_minor": 5
}
