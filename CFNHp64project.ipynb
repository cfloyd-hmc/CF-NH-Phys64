{
 "cells": [
  {
   "cell_type": "code",
   "execution_count": 1,
   "id": "40bb7160",
   "metadata": {
    "tags": []
   },
   "outputs": [],
   "source": [
    "%matplotlib widget\n",
    "import numpy as np\n",
    "import matplotlib.pyplot as plt\n",
    "from matplotlib.animation import FuncAnimation\n",
    "import itertools\n",
    "from functools import total_ordering\n",
    "from numpy.random import default_rng\n",
    "\n",
    "#our classes!!! :)\n",
    "from ParticleSim import Disk\n",
    "from ParticleSim import Expt"
   ]
  },
  {
   "cell_type": "code",
   "execution_count": 2,
   "id": "af2ebaab-d15d-45e7-86ec-441ca33e5f4c",
   "metadata": {},
   "outputs": [
    {
     "name": "stderr",
     "output_type": "stream",
     "text": [
      "MovieWriter ffmpeg unavailable; using Pillow instead.\n"
     ]
    },
    {
     "name": "stdout",
     "output_type": "stream",
     "text": [
      "just so you know, forces and potential energies are zero. Hope you wanted that.\n",
      "Initial KE: 588.2658681126459\n",
      "Initial PE: 0.0\n",
      "Initial Total E: 588.2658681126459\n",
      "initializing experiment... \n",
      "starting simulation... \n",
      "[██████████████████████▄▁▁▁▁▁▁▁▁▁]  \n",
      "finished animating!\n",
      "Final KE: 588.2658681126459\n",
      "Final PE: 0.0\n",
      "Final Total E: 588.2658681126459\n"
     ]
    }
   ],
   "source": [
    "# TEST CELL FOR showAnimation\n",
    "seed = 42\n",
    "rng = default_rng(seed=seed) # instantiate the default random number generator\n",
    "sqrtNumParts = 5\n",
    "\n",
    "pPosGrid = list(itertools.product(np.linspace(20, 180,sqrtNumParts), np.linspace(20,180,sqrtNumParts)))\n",
    "pVelGrid = list((rng.random(size=(sqrtNumParts**2,2))-.5)*50) #randomize initial velocities\n",
    "\n",
    "particles = [Disk(pPosGrid[i], pVelGrid[i]) for i in range(sqrtNumParts**2)]\n",
    "\n",
    "e1 = Expt(particles, dt=0.001, tmax=0.1, animSpeed=500, updateGraphsEvery=35, \n",
    "          potentialType=\"Coul\", doCollisions=True)\n",
    "\n",
    "print(\"Initial KE:\",e1.avgKE)\n",
    "print(\"Initial PE:\",e1.avgPE)\n",
    "print(\"Initial Total E:\",e1.avgE)\n",
    "e1.showAnimation1(\"seed = \" + str(seed) + \"     \")\n",
    "print(\"Final KE:\",e1.avgKE)\n",
    "print(\"Final PE:\",e1.avgPE)\n",
    "print(\"Final Total E:\",e1.avgE)"
   ]
  },
  {
   "cell_type": "code",
   "execution_count": 1,
   "id": "c4de5fed-2a0e-4898-b04c-1bd21d6ac220",
   "metadata": {
    "tags": []
   },
   "outputs": [
    {
     "ename": "NameError",
     "evalue": "name 'plt' is not defined",
     "output_type": "error",
     "traceback": [
      "\u001b[0;31m---------------------------------------------------------------------------\u001b[0m",
      "\u001b[0;31mNameError\u001b[0m                                 Traceback (most recent call last)",
      "\u001b[0;32m<ipython-input-1-1b8c3e9b91c2>\u001b[0m in \u001b[0;36m<module>\u001b[0;34m\u001b[0m\n\u001b[0;32m----> 1\u001b[0;31m \u001b[0mplt\u001b[0m\u001b[0;34m.\u001b[0m\u001b[0mclose\u001b[0m\u001b[0;34m(\u001b[0m\u001b[0;34m\"all\"\u001b[0m\u001b[0;34m)\u001b[0m\u001b[0;34m\u001b[0m\u001b[0;34m\u001b[0m\u001b[0m\n\u001b[0m",
      "\u001b[0;31mNameError\u001b[0m: name 'plt' is not defined"
     ]
    }
   ],
   "source": [
    "plt.close(\"all\")"
   ]
  },
  {
   "cell_type": "code",
   "execution_count": 4,
   "id": "f2d9f94a-149b-46be-83a0-a4c5363828e3",
   "metadata": {},
   "outputs": [
    {
     "name": "stderr",
     "output_type": "stream",
     "text": [
      "MovieWriter ffmpeg unavailable; using Pillow instead.\n"
     ]
    },
    {
     "name": "stdout",
     "output_type": "stream",
     "text": [
      "Initial KE: 588.2658681126459\n",
      "Initial PE: 3984.897222667378\n",
      "Initial Total E: 4573.1630907800245\n",
      "initializing experiment... \n",
      "starting simulation... \n",
      "[██████████████████████▄▁▁▁▁▁▁▁▁▁]  \n",
      "finished animating!\n",
      "Final KE: 439.77811463618883\n",
      "Final PE: 4286.81684525108\n",
      "Final Total E: 4726.5949598872685\n"
     ]
    }
   ],
   "source": [
    "# ANOTHER TEST CELL FOR showAnimation (HARD DISK COLLISIONS)\n",
    "seed = 42\n",
    "rng = default_rng(seed=seed) # instantiate the default random number generator\n",
    "sqrtNumParts = 5\n",
    "\n",
    "pPosGrid = list(itertools.product(np.linspace(20, 180,sqrtNumParts), np.linspace(20,180,sqrtNumParts)))\n",
    "pVelGrid = list((rng.random(size=(sqrtNumParts**2,2))-.5)*50) #randomize initial velocities\n",
    "\n",
    "particles = [Disk(pPosGrid[i], pVelGrid[i]) for i in range(sqrtNumParts**2)]\n",
    "\n",
    "e1 = Expt(particles, dt=0.01, tmax=1.0, animSpeed=1000, updateGraphsEvery=35, \n",
    "          potentialType=\"Coul\", doCollisions=False)\n",
    "\n",
    "print(\"Initial KE:\",e1.avgKE)\n",
    "print(\"Initial PE:\",e1.avgPE)\n",
    "print(\"Initial Total E:\",e1.avgE)\n",
    "e1.showAnimation1(\"seed = \" + str(seed) + \"     \")\n",
    "print(\"Final KE:\",e1.avgKE)\n",
    "print(\"Final PE:\",e1.avgPE)\n",
    "print(\"Final Total E:\",e1.avgE)"
   ]
  },
  {
   "cell_type": "code",
   "execution_count": null,
   "id": "4a9a1ba4-417b-4861-b44e-04c62bedb30c",
   "metadata": {},
   "outputs": [],
   "source": [
    "\n",
    "#TODO: integrate this functionality. This code copy/pasted.\n",
    "\n",
    "import tkinter as tk\n",
    "from PIL import Image, ImageTk\n",
    "\n",
    "class GifViewer(tk.Frame):\n",
    "    def __init__(self, master, gif_path):\n",
    "        super().__init__(master)\n",
    "        self.master = master\n",
    "        self.gif_path = gif_path\n",
    "        self.gif = Image.open(gif_path)\n",
    "        self.frame_count = self.gif.n_frames\n",
    "        self.current_frame = 0\n",
    "        \n",
    "        # Create the slider\n",
    "        self.slider = tk.Scale(\n",
    "            self.master,\n",
    "            from_=0,\n",
    "            to=self.frame_count-1,\n",
    "            orient=tk.HORIZONTAL,\n",
    "            command=self.set_frame\n",
    "        )\n",
    "        self.slider.pack(side=tk.BOTTOM, fill=tk.X)\n",
    "        \n",
    "        # Create the label to display the GIF\n",
    "        self.label = tk.Label(self.master)\n",
    "        self.label.pack()\n",
    "        \n",
    "        # Set the initial frame\n",
    "        self.set_frame(0)\n",
    "    \n",
    "    def set_frame(self, frame):\n",
    "        self.current_frame = int(frame)\n",
    "        self.gif.seek(self.current_frame)\n",
    "        photo = ImageTk.PhotoImage(self.gif)\n",
    "        self.label.config(image=photo)\n",
    "        self.label.image = photo\n",
    "        \n",
    "    def run(self):\n",
    "        self.master.mainloop()\n",
    "        \n",
    "if __name__ == '__main__':\n",
    "    root = tk.Tk()\n",
    "    root.title('GIF Viewer')\n",
    "    gif_path = 'particleAnimation.gif'\n",
    "    viewer = GifViewer(root, gif_path)\n",
    "    viewer.run()\n"
   ]
  },
  {
   "cell_type": "code",
   "execution_count": null,
   "id": "556ee182-18e9-4c42-8651-bb40d8d19db6",
   "metadata": {},
   "outputs": [],
   "source": []
  }
 ],
 "metadata": {
  "kernelspec": {
   "display_name": "Python 3",
   "language": "python",
   "name": "python3"
  },
  "language_info": {
   "codemirror_mode": {
    "name": "ipython",
    "version": 3
   },
   "file_extension": ".py",
   "mimetype": "text/x-python",
   "name": "python",
   "nbconvert_exporter": "python",
   "pygments_lexer": "ipython3",
   "version": "3.8.8"
  }
 },
 "nbformat": 4,
 "nbformat_minor": 5
}
