{
 "cells": [
  {
   "cell_type": "code",
   "execution_count": 10,
   "id": "40bb7160",
   "metadata": {
    "tags": []
   },
   "outputs": [],
   "source": [
    "%matplotlib widget\n",
    "import numpy as np\n",
    "import matplotlib.pyplot as plt\n",
    "from matplotlib.animation import FuncAnimation\n",
    "import itertools\n",
    "from functools import total_ordering\n",
    "from numpy.random import default_rng\n",
    "\n",
    "COUL_FACTOR = 8.988e9 #prefactor in numberator of coulomb force"
   ]
  },
  {
   "cell_type": "code",
   "execution_count": 11,
   "id": "2555dd27",
   "metadata": {
    "tags": []
   },
   "outputs": [],
   "source": [
    "@total_ordering #allows us to only implement lt and eq, imply gt, etc.\n",
    "class Disk:\n",
    "    def __init__(self, x:np.ndarray, v:np.ndarray, mass:float=3, \n",
    "                 radius:float=.5, charge:float=1.602e-3):\n",
    "        self.m = mass\n",
    "        self.r = radius\n",
    "        self.x = np.asarray(x) #x example: array([2, 4])\n",
    "        self.v = np.asarray(v) #v example: array([1.2, -2])\n",
    "        self.nDim = len(self.x)\n",
    "        if self.nDim != len(self.v):\n",
    "            raise Exception(\"Dimensions of velocity and position lists do not match.\")\n",
    "        self.q = charge\n",
    "    \n",
    "    def xFrom(self,other):\n",
    "        #note: this isn't true!\n",
    "        return self.x - other.x\n",
    "    \n",
    "    def forceFrom(self, other):\n",
    "        #calculates the force vector on self because of other\n",
    "        return (COUL_FACTOR * self.q * other.q) * self.xFrom(other) / (\n",
    "            np.linalg.norm(self.xFrom(other))**3) #currently have non-squared distance, huh\n",
    "    \n",
    "    def advance(self, dt:float, L, F=0):\n",
    "        # apply old velocity (update position)\n",
    "        self.x += self.v * dt\n",
    "        self.x = self.x % L\n",
    "        \n",
    "        # apply force (update velocity)\n",
    "        self.v += F * (dt / self.m)\n",
    "    \n",
    "    #allowing comparisons between disk\n",
    "    def __lt__(self, other):\n",
    "        return self.x[0] < other.x[0]\n",
    "    \n",
    "    def __eq__(self, other):\n",
    "        return self.x[0] == other.x[0]\n",
    "    \n",
    "    @property\n",
    "    def speed(self):\n",
    "        return np.linalg.norm(self.v)\n",
    "    \n",
    "    @property\n",
    "    def KE(self):\n",
    "        return (1/2)*self.m*(self.speed**2)\n"
   ]
  },
  {
   "cell_type": "code",
   "execution_count": 12,
   "id": "09435c60",
   "metadata": {
    "tags": []
   },
   "outputs": [],
   "source": [
    "class Expt:\n",
    "    def __init__(self, particles, dt:float=0.1, t_0:float=0, \n",
    "                 tmax:float=15, L:float=200, animSpeed:float=1):\n",
    "        # pPositions example: [ [1, 3], [2, 2] ]: two particles, at (1,3) and (2,2)\n",
    "        \n",
    "        # set time variables\n",
    "        self.t = t_0\n",
    "        self.tmax = tmax\n",
    "        self.dt = dt\n",
    "        self.animSpeed = animSpeed\n",
    "        \n",
    "        # make the particle list\n",
    "        self.particles = np.asarray(particles)\n",
    "        self.numParticles = self.particles.size\n",
    "        self.nDim = self.particles[0].nDim \n",
    "        \n",
    "        #make the box bounds\n",
    "        self.L = L\n",
    "    \n",
    "    def forceBetween(self, p1, p2):\n",
    "        #given two particle IDs/indices, returns the force between them\n",
    "        if p1 == p2: # in future, maybe change to if p1.friendsWith(p2) and\n",
    "                     # have particles have a friends list who they don't push\n",
    "            return 0\n",
    "        else:\n",
    "            return self.particles[p1].forceFrom(self.particles[p2])\n",
    "    \n",
    "    def nextFrame(self):\n",
    "        #calculate forces in advance\n",
    "        forces = np.zeros_like(self.particlePositions)\n",
    "        \n",
    "        #calculate all particles' interactions\n",
    "        for p1 in range(self.numParticles):\n",
    "            for p2 in range(self.numParticles):\n",
    "                if p1 != p2:\n",
    "                    forces[p1] += self.forceBetween(p1, p2)\n",
    "        \n",
    "        #move particles and apply forces afterwards, to allow simultaneity\n",
    "        forceIter = iter(forces)\n",
    "        for p in self.particles:\n",
    "            p.advance(self.dt, self.L, next(forceIter))\n",
    "        self.t += self.dt\n",
    "    \n",
    "    @property\n",
    "    def totalKE(self):\n",
    "        return sum(p.KE for p in self.particles)\n",
    "    \n",
    "    @property\n",
    "    def avgKE(self):\n",
    "        return self.totalKE / self.numParticles\n",
    "    \n",
    "    @property\n",
    "    def particlePositions(self):\n",
    "        return np.array([p.x for p in self.particles])\n",
    "    \n",
    "    def showAnimation(self, addlTitle=\"\"):\n",
    "        fig, ax = plt.subplots()              # create the figure\n",
    "        ax.set_xlim(0,self.L)              # and adjust axes limits and labels\n",
    "        ax.set_ylim(0,self.L)\n",
    "        ax.set_title(self.t)\n",
    "        xvar = np.linspace(0.1,self.L-0.1,self.numParticles)\n",
    "        points, = ax.plot(xvar,np.ones_like(xvar), 'o')\n",
    "        \n",
    "        def frame(_):\n",
    "            points.set_data(np.transpose(self.particlePositions))\n",
    "            title = ax.set_title(addlTitle + \"t = {:0.2f}\".format(self.t))\n",
    "            self.nextFrame()\n",
    "            \n",
    "            #TODO: make & update graphs\n",
    "            \n",
    "            return points, title \n",
    "\n",
    "        #somewhat glitchy display. IDK how best to fix.\n",
    "        ani = FuncAnimation(fig, frame, np.arange(self.t,self.tmax,self.dt), \n",
    "                            interval=self.dt*1000/self.animSpeed, blit=True)\n",
    "        ani.save(\"particleAnimation.gif\")\n",
    "    \n",
    "    #idea: makeCopy() function that makes an identical experiment - might be useful to\n",
    "    #let us go to further times or something? idk\n",
    "    "
   ]
  },
  {
   "cell_type": "code",
   "execution_count": 13,
   "id": "671a6d95-679c-4567-8616-2255ae85e4ae",
   "metadata": {
    "tags": []
   },
   "outputs": [
    {
     "name": "stderr",
     "output_type": "stream",
     "text": [
      "MovieWriter ffmpeg unavailable; using Pillow instead.\n"
     ]
    },
    {
     "name": "stdout",
     "output_type": "stream",
     "text": [
      "0.01173351414467851\n",
      "19308958.050074358\n"
     ]
    },
    {
     "data": {
      "application/vnd.jupyter.widget-view+json": {
       "model_id": "464d431cf24a4c9180abda4b8d30313e",
       "version_major": 2,
       "version_minor": 0
      },
      "image/png": "[encoded data removed]",
      "text/html": [
       "\n",
       "            <div style=\"display: inline-block;\">\n",
       "                <div class=\"jupyter-widgets widget-label\" style=\"text-align: center;\">\n",
       "                    Figure\n",
       "                </div>\n",
       "                <img src='data:image/png;base64,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' width=640.0/>\n",
       "            </div>\n",
       "        "
      ],
      "text/plain": [
       "Canvas(toolbar=Toolbar(toolitems=[('Home', 'Reset original view', 'home', 'home'), ('Back', 'Back to previous …"
      ]
     },
     "metadata": {},
     "output_type": "display_data"
    }
   ],
   "source": [
    "seed = 42\n",
    "rng = default_rng(seed=seed) # instatiate the default random number generator\n",
    "sqrtNumParts = 3\n",
    "\n",
    "pPosGrid = list(itertools.product(np.linspace(50, 150,sqrtNumParts), np.linspace(50,150,sqrtNumParts)))\n",
    "pVelGrid = list(rng.random(size=(sqrtNumParts**2,2))*0.1) #slightly randomize initial velocities\n",
    "\n",
    "particles = [Disk(pPosGrid[i], pVelGrid[i]) for i in range(sqrtNumParts**2)]\n",
    "\n",
    "e1 = Expt(particles, dt=0.05, tmax=5, animSpeed=1)\n",
    "\n",
    "print(e1.avgKE)\n",
    "e1.showAnimation(\"seed = \" + str(seed) + \"     \")\n",
    "print(e1.avgKE)"
   ]
  },
  {
   "cell_type": "code",
   "execution_count": 14,
   "id": "c4de5fed-2a0e-4898-b04c-1bd21d6ac220",
   "metadata": {
    "tags": []
   },
   "outputs": [],
   "source": [
    "plt.close(\"all\")"
   ]
  },
  {
   "cell_type": "code",
   "execution_count": null,
   "id": "f9ad520c-31b3-4bd3-8c3c-34d031e6694a",
   "metadata": {
    "tags": []
   },
   "outputs": [],
   "source": [
    "#create and test an example disk\n",
    "p = Disk([1,1], [6,8], 3, 2, 1)\n",
    "p1 = Disk([3, 2], [3, 3], 1, 1, 1)\n",
    "\n",
    "print(p < p1)\n",
    "print(p == p1)\n",
    "print(p > p1)\n",
    "print(p.speed)\n",
    "print(p.KE)\n",
    "print(p.x)\n",
    "p.advance(2, 20)\n",
    "print(p.speed)\n",
    "print(p.KE)\n",
    "print(p.x)\n",
    "p.advance(1, 20)\n",
    "print(p.speed)\n",
    "print(p.KE)\n",
    "print(p.x)"
   ]
  },
  {
   "cell_type": "code",
   "execution_count": null,
   "id": "a975bf44-13ef-484d-90b3-354281905a40",
   "metadata": {},
   "outputs": [],
   "source": []
  }
 ],
 "metadata": {
  "kernelspec": {
   "display_name": "Python 3",
   "language": "python",
   "name": "python3"
  },
  "language_info": {
   "codemirror_mode": {
    "name": "ipython",
    "version": 3
   },
   "file_extension": ".py",
   "mimetype": "text/x-python",
   "name": "python",
   "nbconvert_exporter": "python",
   "pygments_lexer": "ipython3",
   "version": "3.8.8"
  }
 },
 "nbformat": 4,
 "nbformat_minor": 5
}
