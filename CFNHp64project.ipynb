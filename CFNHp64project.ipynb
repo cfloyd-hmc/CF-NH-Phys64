{
 "cells": [
  {
   "cell_type": "code",
   "execution_count": 45,
   "id": "40bb7160",
   "metadata": {
    "tags": []
   },
   "outputs": [],
   "source": [
    "%matplotlib widget\n",
    "import numpy as np\n",
    "import matplotlib.pyplot as plt\n",
    "from matplotlib.animation import FuncAnimation\n",
    "import itertools\n",
    "from functools import total_ordering\n",
    "from numpy.random import default_rng\n",
    "\n",
    "COUL_FACTOR = 8.988e9 #prefactor in numberator of coulomb force"
   ]
  },
  {
   "cell_type": "code",
   "execution_count": 46,
   "id": "2555dd27",
   "metadata": {
    "tags": []
   },
   "outputs": [],
   "source": [
    "@total_ordering #allows us to only implement lt and eq, imply gt, etc.\n",
    "class Disk:\n",
    "    def __init__(self, x:np.ndarray, v:np.ndarray, mass:float=3, \n",
    "                 radius:float=.5, charge:float=1.602e-3):\n",
    "        self.m = mass\n",
    "        self.r = radius\n",
    "        self.x = np.asarray(x) #x example: array([2, 4])\n",
    "        self.v = np.asarray(v) #v example: array([1.2, -2])\n",
    "        self.nDim = len(self.x)\n",
    "        if self.nDim != len(self.v):\n",
    "            raise Exception(\"Dimensions of velocity and position lists do not match.\")\n",
    "        self.q = charge\n",
    "    \n",
    "    def forceFrom(self, other, L):\n",
    "        #calculates the force vector on self because of other\n",
    "        r = self.x - other.x\n",
    "        r[r > L/2] -= L\n",
    "        return (COUL_FACTOR * self.q * other.q) * r / (np.linalg.norm(r**3))\n",
    "    \n",
    "    def advance(self, dt:float, L, F=0):\n",
    "        # apply old velocity (update position)\n",
    "        self.x += self.v * dt\n",
    "        self.x = self.x % L\n",
    "        \n",
    "        # apply force (update velocity)\n",
    "        self.v += F * (dt / self.m)\n",
    "    \n",
    "    #allowing comparisons between disk\n",
    "    def __lt__(self, other):\n",
    "        return self.x[0] < other.x[0]\n",
    "    \n",
    "    def __eq__(self, other):\n",
    "        return self.x[0] == other.x[0]\n",
    "    \n",
    "    @property\n",
    "    def speed(self):\n",
    "        return np.linalg.norm(self.v)\n",
    "    \n",
    "    @property\n",
    "    def KE(self):\n",
    "        return (1/2)*self.m*(self.speed**2)\n"
   ]
  },
  {
   "cell_type": "code",
   "execution_count": 47,
   "id": "09435c60",
   "metadata": {
    "tags": []
   },
   "outputs": [],
   "source": [
    "class Expt:\n",
    "    def __init__(self, particles, dt:float=0.1, t_0:float=0, \n",
    "                 tmax:float=15, L:float=200, animSpeed:float=1):\n",
    "        # pPositions example: [ [1, 3], [2, 2] ]: two particles, at (1,3) and (2,2)\n",
    "        \n",
    "        # set time variables\n",
    "        self.t = t_0\n",
    "        self.tmax = tmax\n",
    "        self.dt = dt\n",
    "        self.animSpeed = animSpeed\n",
    "        \n",
    "        # make the particle list\n",
    "        self.particles = np.asarray(particles)\n",
    "        self.numParticles = self.particles.size\n",
    "        self.nDim = self.particles[0].nDim \n",
    "        \n",
    "        #make the box bounds\n",
    "        self.L = L\n",
    "    \n",
    "    def forceBetween(self, p1, p2):\n",
    "        #given two particle IDs/indices, returns the force between them\n",
    "        if p1 == p2: # in future, maybe change to if p1.friendsWith(p2) and\n",
    "                     # have particles have a friends list who they don't push\n",
    "            return 0\n",
    "        else:\n",
    "            return self.particles[p1].forceFrom(self.particles[p2], self.L)\n",
    "    \n",
    "    def nextFrame(self):\n",
    "        #calculate forces in advance\n",
    "        forces = np.zeros_like(self.particlePositions)\n",
    "        \n",
    "        #calculate all particles' interactions\n",
    "        for p1 in range(self.numParticles):\n",
    "            for p2 in range(self.numParticles):\n",
    "                if p1 != p2:\n",
    "                    forces[p1] += self.forceBetween(p1, p2)\n",
    "        \n",
    "        #move particles and apply forces afterwards, to allow simultaneity\n",
    "        forceIter = iter(forces)\n",
    "        for p in self.particles:\n",
    "            p.advance(self.dt, self.L, next(forceIter))\n",
    "        self.t += self.dt\n",
    "    \n",
    "    @property\n",
    "    def totalKE(self):\n",
    "        return sum(p.KE for p in self.particles)\n",
    "    \n",
    "    @property\n",
    "    def avgKE(self):\n",
    "        return self.totalKE / self.numParticles\n",
    "    \n",
    "    @property\n",
    "    def particlePositions(self):\n",
    "        return np.array([p.x for p in self.particles])\n",
    "    \n",
    "    def showAnimation(self, addlTitle=\"\"):\n",
    "        fig, ax = plt.subplots()              # create the figure\n",
    "        ax.set_xlim(0,self.L)              # and adjust axes limits and labels\n",
    "        ax.set_ylim(0,self.L)\n",
    "        ax.set_title(self.t)\n",
    "        xvar = np.linspace(0.1,self.L-0.1,self.numParticles)\n",
    "        points, = ax.plot(xvar,np.ones_like(xvar), 'o')\n",
    "        \n",
    "        def frame(_):\n",
    "            points.set_data(np.transpose(self.particlePositions))\n",
    "            title = ax.set_title(addlTitle + \"t = {:0.2f}\".format(self.t))\n",
    "            self.nextFrame()\n",
    "            \n",
    "            #TODO: make & update graphs\n",
    "            \n",
    "            return points, title \n",
    "\n",
    "        #somewhat glitchy display. IDK how best to fix.\n",
    "        ani = FuncAnimation(fig, frame, np.arange(self.t,self.tmax,self.dt), \n",
    "                            interval=self.dt*1000/self.animSpeed, blit=True)\n",
    "        ani.save(\"particleAnimation.gif\")\n",
    "    \n",
    "    #idea: makeCopy() function that makes an identical experiment - might be useful to\n",
    "    #let us go to further times or something? idk\n",
    "    "
   ]
  },
  {
   "cell_type": "code",
   "execution_count": 48,
   "id": "671a6d95-679c-4567-8616-2255ae85e4ae",
   "metadata": {
    "tags": []
   },
   "outputs": [
    {
     "name": "stderr",
     "output_type": "stream",
     "text": [
      "MovieWriter ffmpeg unavailable; using Pillow instead.\n"
     ]
    },
    {
     "name": "stdout",
     "output_type": "stream",
     "text": [
      "0.939418859465719\n",
      "43224.163709966626\n"
     ]
    },
    {
     "data": {
      "application/vnd.jupyter.widget-view+json": {
       "model_id": "0f0fbfc9f69f4373a6b93640602434ce",
       "version_major": 2,
       "version_minor": 0
      },
      "image/png": "[encoded data removed]",
      "text/html": [
       "\n",
       "            <div style=\"display: inline-block;\">\n",
       "                <div class=\"jupyter-widgets widget-label\" style=\"text-align: center;\">\n",
       "                    Figure\n",
       "                </div>\n",
       "                <img src='data:image/png;base64,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' width=640.0/>\n",
       "            </div>\n",
       "        "
      ],
      "text/plain": [
       "Canvas(toolbar=Toolbar(toolitems=[('Home', 'Reset original view', 'home', 'home'), ('Back', 'Back to previous …"
      ]
     },
     "metadata": {},
     "output_type": "display_data"
    }
   ],
   "source": [
    "seed = 42\n",
    "rng = default_rng(seed=seed) # instatiate the default random number generator\n",
    "sqrtNumParts = 8\n",
    "\n",
    "pPosGrid = list(itertools.product(np.linspace(0, 175,sqrtNumParts), np.linspace(0,175,sqrtNumParts)))\n",
    "pVelGrid = list(rng.random(size=(sqrtNumParts**2,2))*1) #slightly randomize initial velocities\n",
    "\n",
    "particles = [Disk(pPosGrid[i], pVelGrid[i]) for i in range(sqrtNumParts**2)]\n",
    "\n",
    "e1 = Expt(particles, dt=0.01, tmax=3, animSpeed=0.5)\n",
    "\n",
    "print(e1.avgKE)\n",
    "e1.showAnimation(\"seed = \" + str(seed) + \"     \")\n",
    "print(e1.avgKE)"
   ]
  },
  {
   "cell_type": "code",
   "execution_count": 49,
   "id": "c4de5fed-2a0e-4898-b04c-1bd21d6ac220",
   "metadata": {
    "tags": []
   },
   "outputs": [],
   "source": [
    "plt.close(\"all\")"
   ]
  },
  {
   "cell_type": "code",
   "execution_count": 39,
   "id": "f9ad520c-31b3-4bd3-8c3c-34d031e6694a",
   "metadata": {
    "tags": []
   },
   "outputs": [
    {
     "name": "stdout",
     "output_type": "stream",
     "text": [
      "True\n",
      "False\n",
      "False\n",
      "10.0\n",
      "150.0\n",
      "[1 1]\n"
     ]
    }
   ],
   "source": [
    "#create and test an example disk\n",
    "p = Disk([1,1], [6,8], 3, 2, 1)\n",
    "p1 = Disk([3, 2], [3, 3], 1, 1, 1)\n",
    "\n",
    "print(p < p1)\n",
    "print(p == p1)\n",
    "print(p > p1)\n",
    "print(p.speed)\n",
    "print(p.KE)\n",
    "print(p.x)"
   ]
  },
  {
   "cell_type": "code",
   "execution_count": null,
   "id": "a975bf44-13ef-484d-90b3-354281905a40",
   "metadata": {},
   "outputs": [],
   "source": []
  }
 ],
 "metadata": {
  "kernelspec": {
   "display_name": "Python 3",
   "language": "python",
   "name": "python3"
  },
  "language_info": {
   "codemirror_mode": {
    "name": "ipython",
    "version": 3
   },
   "file_extension": ".py",
   "mimetype": "text/x-python",
   "name": "python",
   "nbconvert_exporter": "python",
   "pygments_lexer": "ipython3",
   "version": "3.8.8"
  }
 },
 "nbformat": 4,
 "nbformat_minor": 5
}
