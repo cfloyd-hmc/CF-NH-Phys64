{
 "cells": [
  {
   "cell_type": "code",
   "execution_count": null,
   "id": "27067b0b",
   "metadata": {
    "tags": []
   },
   "outputs": [],
   "source": [
    "%matplotlib widget\n",
    "import numpy as np\n",
    "import matplotlib.pyplot as plt\n",
    "from matplotlib.animation import FuncAnimation\n",
    "import itertools\n",
    "import math\n",
    "from functools import total_ordering\n",
    "from numpy.random import default_rng\n",
    "\n",
    "#our class!\n",
    "from LJParticles import LJParticles"
   ]
  },
  {
   "cell_type": "code",
   "execution_count": null,
   "id": "3d4f16c7-32da-4f38-89fb-efdd138108e0",
   "metadata": {
    "tags": []
   },
   "outputs": [],
   "source": [
    "#initialize a LJParticles object\n",
    "LJ = LJParticles(initialKE = .2)\n",
    "\n",
    "#run simulation and save with given filename (+.gif)\n",
    "PEs, KEs = LJ.saveAnimation(\"sampleExperiment\")\n",
    "TEs = [PEs[i] + KEs[i] for i in range(len(PEs))]\n",
    "\n",
    "#Open gif file directly, or use gifPlayer for ability to speed up / slow down.\n",
    "\n",
    "#Use matplotlib to create plots of kinetic and potential energy, and add them to get total energy\n",
    "fig, ax = plt.subplots()\n",
    "ax.plot(PEs, label=\"PE\")\n",
    "ax.plot(KEs, label=\"KE\")\n",
    "ax.plot(TEs, label=\"TE\")\n",
    "ax.legend();"
   ]
  },
  {
   "cell_type": "code",
   "execution_count": null,
   "id": "7f9a14d1-c580-4e16-9fec-d4be93af47e3",
   "metadata": {},
   "outputs": [],
   "source": [
    "#for use on graph axes, remember the time variables to convert between frames and times\n",
    "dt = 0.01\n",
    "tmax = 8\n",
    "\n",
    "#there are lots of options one can put into a LJParticles object\n",
    "LJ = LJParticles(initialKE = .3, Lx = 7, Ly = 7, nx=5, ny=5, dt=dt, tmax=tmax, dispEvery=10, \n",
    "                 cool=True, cool_factor=0.7, cool_every=100, cool_startT=2)\n",
    "\n",
    "PEs, KEs = LJ.saveAnimation(\"coolingExpt1\")\n",
    "TEs = [PEs[i] + KEs[i] for i in range(len(PEs))]\n",
    "\n",
    "tvar = np.arange(0,tmax,dt)\n",
    "fig, ax = plt.subplots()\n",
    "\n",
    "ax.set_xlabel(\"Time (s)\")\n",
    "ax.set_ylabel(\"Energy\")\n",
    "ax.set_title(\"Energies over time\")\n",
    "\n",
    "ax.plot(tvar, PEs, \"b\", label=\"PE\")\n",
    "ax.plot(tvar, KEs, \"r\", label=\"KE\")\n",
    "ax.plot(tvar, TEs, \"g\", label=\"TE\")\n",
    "\n",
    "ax.legend();"
   ]
  }
 ],
 "metadata": {
  "kernelspec": {
   "display_name": "Python 3",
   "language": "python",
   "name": "python3"
  },
  "language_info": {
   "codemirror_mode": {
    "name": "ipython",
    "version": 3
   },
   "file_extension": ".py",
   "mimetype": "text/x-python",
   "name": "python",
   "nbconvert_exporter": "python",
   "pygments_lexer": "ipython3",
   "version": "3.8.8"
  }
 },
 "nbformat": 4,
 "nbformat_minor": 5
}
