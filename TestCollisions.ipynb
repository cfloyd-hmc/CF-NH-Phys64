{
 "cells": [
  {
   "cell_type": "code",
   "execution_count": 1,
   "id": "c69b6f29-8af1-47be-93bf-259edcf49055",
   "metadata": {},
   "outputs": [],
   "source": [
    "%matplotlib widget\n",
    "import numpy as np\n",
    "import matplotlib.pyplot as plt\n",
    "from matplotlib.animation import FuncAnimation\n",
    "import itertools\n",
    "from functools import total_ordering\n",
    "from numpy.random import default_rng\n",
    "\n",
    "#our classes!!! :)\n",
    "from ParticleSim_Nikolas import Disk\n",
    "from ParticleSim_Nikolas import Expt"
   ]
  },
  {
   "cell_type": "code",
   "execution_count": 3,
   "id": "3af9b43c-151d-4898-bfdd-86732d0efdc5",
   "metadata": {},
   "outputs": [
    {
     "name": "stderr",
     "output_type": "stream",
     "text": [
      "MovieWriter ffmpeg unavailable; using Pillow instead.\n"
     ]
    },
    {
     "name": "stdout",
     "output_type": "stream",
     "text": [
      "Initial KE: 546.9031774221032\n",
      "Initial PE: -0.1822568352408779\n",
      "Initial Total E: 546.7209205868623\n",
      "\n",
      "Initial total KE: 19688.514387195715\n",
      "Initial total PE: -6.561246068671605\n",
      "Initial total E: 19681.953141127044\n",
      "initializing experiment... \n",
      "starting simulation... \n",
      "[███████████████████████████████]   \n",
      "finished animating!\n",
      "Potential Energy: 45269469545924.4\n",
      "Kinetic Energy: 18474558670.96406\n",
      "Total Energy: 45287944104595.36\n",
      "Final KE: 513182185.30455726\n",
      "Final PE: 1257485265164.5667\n",
      "Final Total E: 1257998447349.871\n",
      "\n",
      "Final total KE: 18474558670.96406\n",
      "Final total PE: 45269469545924.4\n",
      "Final total E: 45287944104595.36\n"
     ]
    }
   ],
   "source": [
    "# TEST CELL FOR showAnimation\n",
    "seed = 42\n",
    "rng = default_rng(seed=seed) # instantiate the default random number generator\n",
    "sqrtNumParts = 6\n",
    "\n",
    "pPosGrid = list(itertools.product(np.linspace(20, 180,sqrtNumParts), np.linspace(20,180,sqrtNumParts)))\n",
    "pVelGrid = list((rng.random(size=(sqrtNumParts**2,2))-.5)*50) #randomize initial velocities\n",
    "\n",
    "particles = [Disk(pPosGrid[i], pVelGrid[i]) for i in range(sqrtNumParts**2)]\n",
    "\n",
    "\n",
    "e1 = Expt(particles, dt=0.01, tmax=10.0, animSpeed=7.5, updateGraphsEvery=5, \n",
    "          potentialType=\"Lenn\", doCollisions=False)\n",
    "\n",
    "print(\"Initial KE:\",e1.avgKE)\n",
    "print(\"Initial PE:\",e1.avgPE)\n",
    "print(\"Initial Total E:\",e1.avgE)\n",
    "print()\n",
    "print(\"Initial total KE:\", e1.totalKE)\n",
    "print(\"Initial total PE:\", e1.totalPE)\n",
    "print(\"Initial total E:\", e1.totalE)\n",
    "\n",
    "e1.showAnimation(\"seed = \" + str(seed) + \"     \")\n",
    "print(\"Final KE:\",e1.avgKE)\n",
    "print(\"Final PE:\",e1.avgPE)\n",
    "print(\"Final Total E:\",e1.avgE)\n",
    "print()\n",
    "print(\"Final total KE:\", e1.totalKE)\n",
    "print(\"Final total PE:\", e1.totalPE)\n",
    "print(\"Final total E:\", e1.totalE)"
   ]
  },
  {
   "cell_type": "code",
   "execution_count": 2,
   "id": "d77299dd-02ae-4ebb-af4a-1a24ea6c5b9f",
   "metadata": {},
   "outputs": [
    {
     "name": "stderr",
     "output_type": "stream",
     "text": [
      "MovieWriter ffmpeg unavailable; using Pillow instead.\n"
     ]
    },
    {
     "name": "stdout",
     "output_type": "stream",
     "text": [
      "Initial KE: 2353.0634724505835\n",
      "Initial PE: -1.4283788875913561\n",
      "Initial Total E: 2351.635093562992\n",
      "initializing experiment... \n",
      "starting simulation... \n",
      "[████████████████████████████▄▁▁▁]  \n",
      "finished animating!\n",
      "Final KE: 99.89547766262442\n",
      "Final PE: 0.9129464672706465\n",
      "Final Total E: 100.80842412989506\n"
     ]
    }
   ],
   "source": [
    "# ANOTHER TEST CELL FOR showAnimation (LENNARD-JONES, NO COLLISIONS)\n",
    "seed = 42\n",
    "rng = default_rng(seed=seed) # instantiate the default random number generator\n",
    "sqrtNumParts = 5\n",
    "\n",
    "pPosGrid = list(itertools.product(np.linspace(20, 180,sqrtNumParts), np.linspace(20,180,sqrtNumParts)))\n",
    "pVelGrid = list((rng.random(size=(sqrtNumParts**2,2))-.5)*100) #randomize initial velocities\n",
    "\n",
    "particles = [Disk(pPosGrid[i], pVelGrid[i]) for i in range(sqrtNumParts**2)]\n",
    "\n",
    "e1 = Expt(particles, dt=0.01, tmax=2.0, animSpeed=1000, updateGraphsEvery=35, \n",
    "          potentialType=\"Lenn\", doCollisions=False, cool = True)\n",
    "\n",
    "print(\"Initial KE:\",e1.avgKE)\n",
    "print(\"Initial PE:\",e1.avgPE)\n",
    "print(\"Initial Total E:\",e1.avgE)\n",
    "e1.showAnimation(\"seed = \" + str(seed) + \"     \")\n",
    "print(\"Final KE:\",e1.avgKE)\n",
    "print(\"Final PE:\",e1.avgPE)\n",
    "print(\"Final Total E:\",e1.avgE)"
   ]
  },
  {
   "cell_type": "code",
   "execution_count": 4,
   "id": "1151afcf-d72c-4568-9089-0a532801bc9c",
   "metadata": {},
   "outputs": [
    {
     "name": "stdout",
     "output_type": "stream",
     "text": [
      "Initial KE: 15000.0\n",
      "Initial PE: -0.06994818490356093\n",
      "Initial Total E: 14999.930051815096\n",
      "initializing experiment... \n"
     ]
    },
    {
     "name": "stderr",
     "output_type": "stream",
     "text": [
      "MovieWriter ffmpeg unavailable; using Pillow instead.\n"
     ]
    },
    {
     "name": "stdout",
     "output_type": "stream",
     "text": [
      "starting simulation... \n",
      "[██████████████████████▄▁▁▁▁▁▁▁▁▁]  \n",
      "finished animating!\n",
      "Potential Energy: 167.283883049888\n",
      "Kinetic Energy: 64966442.26771593\n",
      "Total Energy: 64966609.55159898\n",
      "Final KE: 32483221.133857965\n",
      "Final PE: 83.641941524944\n",
      "Final Total E: 32483304.77579949\n"
     ]
    }
   ],
   "source": [
    "# TEST CELL FOR showAnimation (TWO HARD DISKS COLLIDING)\n",
    "seed = 42\n",
    "rng = default_rng(seed=seed) # instantiate the default random number generator\n",
    "#sqrtNumParts = 2\n",
    "\n",
    "#pPosGrid = list(itertools.product(np.linspace(20, 180,sqrtNumParts), np.linspace(20,180,sqrtNumParts)))\n",
    "\n",
    "#print(pPosGrid)\n",
    "\n",
    "#pVelGrid = list((rng.random(size=(sqrtNumParts**2,2))-.5)*100) #randomize initial velocities\n",
    "\n",
    "#particles = [Disk(pPosGrid[i], pVelGrid[i]) for i in range(sqrtNumParts**2)]\n",
    "\n",
    "p1 = Disk([20.0, 20.0], [100.0, 0.0], charge = 0)\n",
    "\n",
    "p2 = Disk([50.0, 20.0], [-100.0, 0.0], charge = 0)\n",
    "\n",
    "particles = [p1, p2]\n",
    "\n",
    "e1 = Expt(particles, dt=0.01, tmax=1.0, animSpeed=500, updateGraphsEvery=35, \n",
    "          potentialType=\"Lenn\", doCollisions=False)\n",
    "\n",
    "print(\"Initial KE:\",e1.avgKE)\n",
    "print(\"Initial PE:\",e1.avgPE)\n",
    "print(\"Initial Total E:\",e1.avgE)\n",
    "e1.showAnimation(\"seed = \" + str(seed) + \"     \")\n",
    "print(\"Final KE:\",e1.avgKE)\n",
    "print(\"Final PE:\",e1.avgPE)\n",
    "print(\"Final Total E:\",e1.avgE)"
   ]
  },
  {
   "cell_type": "code",
   "execution_count": 2,
   "id": "9b4626ee-3328-40b2-a458-887d37fa7568",
   "metadata": {},
   "outputs": [
    {
     "name": "stderr",
     "output_type": "stream",
     "text": [
      "MovieWriter ffmpeg unavailable; using Pillow instead.\n"
     ]
    },
    {
     "name": "stdout",
     "output_type": "stream",
     "text": [
      "Initial KE: 588.2658681126459\n",
      "Initial PE: 3984.897222667378\n",
      "Initial Total E: 4573.1630907800245\n",
      "initializing experiment... \n",
      "starting simulation... \n",
      "[██████████████████████▄▁▁▁▁▁▁▁▁▁]  \n",
      "finished animating!\n",
      "Final KE: 439.77811463618883\n",
      "Final PE: 4286.81684525108\n",
      "Final Total E: 4726.5949598872685\n"
     ]
    }
   ],
   "source": [
    "# ANOTHER TEST CELL FOR showAnimation (COULOMB, NO COLLISIONS)\n",
    "seed = 42\n",
    "rng = default_rng(seed=seed) # instantiate the default random number generator\n",
    "sqrtNumParts = 5\n",
    "\n",
    "pPosGrid = list(itertools.product(np.linspace(20, 180,sqrtNumParts), np.linspace(20,180,sqrtNumParts)))\n",
    "pVelGrid = list((rng.random(size=(sqrtNumParts**2,2))-.5)*50) #randomize initial velocities\n",
    "\n",
    "particles = [Disk(pPosGrid[i], pVelGrid[i]) for i in range(sqrtNumParts**2)]\n",
    "\n",
    "e1 = Expt(particles, dt=0.01, tmax=1.0, animSpeed=1000, updateGraphsEvery=35, \n",
    "          potentialType=\"Coul\", doCollisions=False)\n",
    "\n",
    "print(\"Initial KE:\",e1.avgKE)\n",
    "print(\"Initial PE:\",e1.avgPE)\n",
    "print(\"Initial Total E:\",e1.avgE)\n",
    "e1.showAnimation(\"seed = \" + str(seed) + \"     \")\n",
    "print(\"Final KE:\",e1.avgKE)\n",
    "print(\"Final PE:\",e1.avgPE)\n",
    "print(\"Final Total E:\",e1.avgE)"
   ]
  },
  {
   "cell_type": "code",
   "execution_count": 3,
   "id": "43ac11b8-30ba-461e-8a87-c0934232b680",
   "metadata": {},
   "outputs": [
    {
     "name": "stderr",
     "output_type": "stream",
     "text": [
      "MovieWriter ffmpeg unavailable; using Pillow instead.\n"
     ]
    },
    {
     "name": "stdout",
     "output_type": "stream",
     "text": [
      "Initial KE: 588.2658681126459\n",
      "Initial PE: 3984.897222667378\n",
      "Initial Total E: 4573.1630907800245\n",
      "initializing experiment... \n",
      "starting simulation... \n",
      "[███████████████████████████████]   \n",
      "finished animating!\n",
      "Final KE: 455.07662677679355\n",
      "Final PE: 4311.213387688228\n",
      "Final Total E: 4766.290014465022\n"
     ]
    }
   ],
   "source": []
  },
  {
   "cell_type": "code",
   "execution_count": 5,
   "id": "88874cb3-c68c-4203-a805-79a3482cfb8e",
   "metadata": {},
   "outputs": [
    {
     "data": {
      "text/plain": [
       "array([1, 2, 3])"
      ]
     },
     "execution_count": 5,
     "metadata": {},
     "output_type": "execute_result"
    }
   ],
   "source": [
    "a = np.asarray([1, 2, 3])\n",
    "a"
   ]
  },
  {
   "cell_type": "code",
   "execution_count": 6,
   "id": "291d5b9e-76ce-489d-af30-bef52cb387b3",
   "metadata": {},
   "outputs": [
    {
     "data": {
      "text/plain": [
       "array([0.1, 0.2, 0.3])"
      ]
     },
     "execution_count": 6,
     "metadata": {},
     "output_type": "execute_result"
    }
   ],
   "source": [
    "b = a * 0.1\n",
    "b"
   ]
  },
  {
   "cell_type": "code",
   "execution_count": null,
   "id": "344d8955-b795-4b88-b63e-47b9f15a0a7f",
   "metadata": {},
   "outputs": [],
   "source": [
    "import tkinter as tk\n",
    "from PIL import Image, ImageTk\n",
    "\n",
    "class GifViewer(tk.Frame):\n",
    "    def __init__(self, master, gif_path):\n",
    "        super().__init__(master)\n",
    "        self.master = master\n",
    "        self.gif_path = gif_path\n",
    "        self.gif = Image.open(gif_path)\n",
    "        self.frame_count = self.gif.n_frames\n",
    "        self.current_frame = 0\n",
    "        \n",
    "        # Create the slider\n",
    "        self.slider = tk.Scale(\n",
    "            self.master,\n",
    "            from_=0,\n",
    "            to=self.frame_count-1,\n",
    "            orient=tk.HORIZONTAL,\n",
    "            command=self.set_frame\n",
    "        )\n",
    "        self.slider.pack(side=tk.BOTTOM, fill=tk.X)\n",
    "        \n",
    "        # Create the label to display the GIF\n",
    "        self.label = tk.Label(self.master)\n",
    "        self.label.pack()\n",
    "        \n",
    "        # Set the initial frame\n",
    "        self.set_frame(0)\n",
    "    \n",
    "    def set_frame(self, frame):\n",
    "        self.current_frame = int(frame)\n",
    "        self.gif.seek(self.current_frame)\n",
    "        photo = ImageTk.PhotoImage(self.gif)\n",
    "        self.label.config(image=photo)\n",
    "        self.label.image = photo\n",
    "        \n",
    "    def run(self):\n",
    "        self.master.mainloop()\n",
    "        \n",
    "if __name__ == '__main__':\n",
    "    root = tk.Tk()\n",
    "    root.title('GIF Viewer')\n",
    "    gif_path = 'particleAnimation.gif'\n",
    "    viewer = GifViewer(root, gif_path)\n",
    "    viewer.run()"
   ]
  },
  {
   "cell_type": "code",
   "execution_count": null,
   "id": "b9fe063e-d50d-4cec-a9e6-b565495d6941",
   "metadata": {},
   "outputs": [],
   "source": []
  }
 ],
 "metadata": {
  "kernelspec": {
   "display_name": "Python 3",
   "language": "python",
   "name": "python3"
  },
  "language_info": {
   "codemirror_mode": {
    "name": "ipython",
    "version": 3
   },
   "file_extension": ".py",
   "mimetype": "text/x-python",
   "name": "python",
   "nbconvert_exporter": "python",
   "pygments_lexer": "ipython3",
   "version": "3.8.8"
  }
 },
 "nbformat": 4,
 "nbformat_minor": 5
}
