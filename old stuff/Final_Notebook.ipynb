{
 "cells": [
  {
   "cell_type": "markdown",
   "id": "76c190d7",
   "metadata": {},
   "source": []
  },
  {
   "cell_type": "markdown",
   "id": "9e856675",
   "metadata": {},
   "source": []
  },
  {
   "cell_type": "markdown",
   "id": "fde70cf2",
   "metadata": {},
   "source": []
  },
  {
   "cell_type": "markdown",
   "id": "1406fafd",
   "metadata": {},
   "source": []
  },
  {
   "cell_type": "markdown",
   "id": "c9c37957",
   "metadata": {},
   "source": []
  },
  {
   "cell_type": "code",
   "execution_count": 2,
   "id": "ddbd7919",
   "metadata": {},
   "outputs": [],
   "source": []
  },
  {
   "cell_type": "markdown",
   "id": "189e4851",
   "metadata": {},
   "source": []
  },
  {
   "cell_type": "markdown",
   "id": "3e0f805f",
   "metadata": {},
   "source": [
    "### References\n",
    "\n",
    "1. Amdahl, Kirsten. “Fundamentals of Phase Transitions.” Chemistry LibreTexts, Libretexts, 30 Jan. 2023, https://chem.libretexts.org/Bookshelves/Physical_and_Theoretical_Chemistry_Textbook_Maps/Supplemental_Modules_(Physical_and_Theoretical_Chemistry)/Physical_Properties_of_Matter/States_of_Matter/Phase_Transitions/Fundamentals_of_Phase_Transitions#:~:text=Phase%20transition%20is%20when%20a,combination%20of%20temperature%20and%20pressure. \n",
    "\n",
    "2. Daub, G. William, and William S. Seese. Basic Chemistry. Prentice Hall, 1996. \n",
    "\n",
    "3. Graham, Kate. “7.4: London Attractions.” Chemistry LibreTexts, Libretexts, 14 July 2020, https://chem.libretexts.org/Ancillary_Materials/Worksheets/Worksheets%3A_Inorganic_Chemistry/Structure_and_Reactivity_in_Organic_Biological_and_Inorganic_Chemistry/07%3A_Intermolecular_Attraction_and_Structure-Property_Relationships/7.04%3A_London_Attractions. \n",
    "\n",
    "4. Naeem, Rabia. “Lennard-Jones Potential.” Chemistry LibreTexts, Libretexts, 15 Apr. 2023, https://chem.libretexts.org/Bookshelves/Physical_and_Theoretical_Chemistry_Textbook_Maps/Supplemental_Modules_(Physical_and_Theoretical_Chemistry)/Physical_Properties_of_Matter/Atomic_and_Molecular_Properties/Intermolecular_Forces/Specific_Interactions/Lennard-Jones_Potential. "
   ]
  },
  {
   "cell_type": "code",
   "execution_count": null,
   "id": "d3ca729d-3c9d-43bf-b074-ae3205c21c2c",
   "metadata": {},
   "outputs": [],
   "source": []
  }
 ],
 "metadata": {
  "kernelspec": {
   "display_name": "Python 3",
   "language": "python",
   "name": "python3"
  },
  "language_info": {
   "codemirror_mode": {
    "name": "ipython",
    "version": 3
   },
   "file_extension": ".py",
   "mimetype": "text/x-python",
   "name": "python",
   "nbconvert_exporter": "python",
   "pygments_lexer": "ipython3",
   "version": "3.8.8"
  }
 },
 "nbformat": 4,
 "nbformat_minor": 5
}
