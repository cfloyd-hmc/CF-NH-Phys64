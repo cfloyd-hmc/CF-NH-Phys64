{
 "cells": [
  {
   "cell_type": "code",
   "execution_count": null,
   "id": "8a820a11",
   "metadata": {},
   "outputs": [],
   "source": [
    "%matplotlib notebook\n",
    "import matplotlib.pyplot as plt\n",
    "import numpy as np\n",
    "try:\n",
    "    from rich.progress import track\n",
    "except:\n",
    "    track = lambda x: x\n",
    "\n",
    "from numpy.random import default_rng\n",
    "rng = default_rng()"
   ]
  },
  {
   "cell_type": "code",
   "execution_count": null,
   "id": "15469b70",
   "metadata": {},
   "outputs": [],
   "source": [
    "class TwoDLapl:\n",
    "    def __init__(self, N:int, **kwargs):\n",
    "        self.V = np.empty((N,N), dtype=np.float64)\n",
    "        self.N = N\n",
    "        self.N1 = N-1\n",
    "        self.N2 = N-2\n",
    "        self.shift = []\n",
    "        self.im = None\n",
    "        self.reset()\n",
    "        self.SOR = kwargs.get('SOR', 1.0)\n",
    "        self.order = self.set_order(**kwargs)\n",
    "        self.alternate = kwargs.get('alternate', False)\n",
    "        self.fig, (self.axim, self.axline) = plt.subplots(\n",
    "            ncols=2, figsize=(12,6),\n",
    "            gridspec_kw=dict(width_ratios=(2,1)))\n",
    "        self.im = self.axim.matshow(self.V, cmap='Spectral', origin='lower', extent=(0,1,0,1))\n",
    "        plt.colorbar(self.im, shrink=0.75)\n",
    "\n",
    "    def reset(self):\n",
    "        self.V[:,:] = 0.0\n",
    "        self.V[self.N1,:] = 1.0\n",
    "        self.shift = []\n",
    "\n",
    "    def relax(self):\n",
    "        self.dVmax = 0.0\n",
    "        V = self.V\n",
    "\n",
    "        def update(r, c):\n",
    "            newV = (V[r+1,c] + V[r-1,c] + V[r,c+1] + V[r,c-1]) / 4\n",
    "            dV = newV - V[r,c]\n",
    "            self.dVmax = max(self.dVmax, abs(dV))\n",
    "            V[r,c] += self.SOR * dV\n",
    "\n",
    "        if self.alternate:\n",
    "            o = self.order if len(self.shift) % 2 else reversed(self.order)\n",
    "        else:\n",
    "            o = self.order\n",
    "\n",
    "        for r,c in o:\n",
    "            update(r, c)\n",
    "\n",
    "        self.shift.append(self.dVmax)\n",
    "    \n",
    "    def set_order(self, **kwargs):\n",
    "        \"\"\"Create a list of the (r,c) pairs to update\"\"\"\n",
    "        interior = np.arange(1, self.N1, dtype=np.uint32)\n",
    "        X, Y = np.meshgrid(interior, interior)\n",
    "        allpairs = [(x,y) for x,y in zip(X.flatten(), Y.flatten())]\n",
    "        \n",
    "        if kwargs.get('random', False):\n",
    "            allpairs = np.array(allpairs)\n",
    "            rng.shuffle(allpairs)\n",
    "        \n",
    "        return tuple(allpairs)\n",
    "\n",
    "    def show(self):\n",
    "        self.im.set_data(self.V)\n",
    "        self.axline.clear()\n",
    "        self.axline.semilogy(np.arange(len(self.shift)), self.shift)\n",
    "        self.axline.set_ylabel(\"abs(shift)\")\n",
    "        self.axline.set_xlabel(\"iteration\")\n",
    "        self.fig.canvas.draw()\n",
    "        self.fig.canvas.flush_events()\n",
    "\n",
    "    def showrelax(self, N:int, update:int):\n",
    "        for n in track(range(N)):\n",
    "            self.relax()\n",
    "            if (n+1) % update == 0:\n",
    "                self.show()"
   ]
  },
  {
   "cell_type": "code",
   "execution_count": null,
   "id": "e4dfb90c",
   "metadata": {},
   "outputs": [],
   "source": [
    "d.showrelax(1000,50)"
   ]
  },
  {
   "cell_type": "code",
   "execution_count": null,
   "id": "261e51ed",
   "metadata": {},
   "outputs": [],
   "source": [
    "dd = TwoDLapl(51, random=True)"
   ]
  },
  {
   "cell_type": "code",
   "execution_count": null,
   "id": "2332b2f1",
   "metadata": {},
   "outputs": [],
   "source": [
    "dd.showrelax(1000,100)"
   ]
  },
  {
   "cell_type": "code",
   "execution_count": null,
   "id": "9f594a7f",
   "metadata": {},
   "outputs": [],
   "source": [
    "dSOR = TwoDLapl(101, SOR=1.8)"
   ]
  },
  {
   "cell_type": "code",
   "execution_count": null,
   "id": "30671297",
   "metadata": {},
   "outputs": [],
   "source": [
    "dSOR.showrelax(1000,100)"
   ]
  },
  {
   "cell_type": "code",
   "execution_count": null,
   "id": "bd6548c1",
   "metadata": {},
   "outputs": [],
   "source": [
    "dbig = TwoDLapl(201, SOR=1.8)"
   ]
  },
  {
   "cell_type": "code",
   "execution_count": null,
   "id": "dba5447b",
   "metadata": {},
   "outputs": [],
   "source": [
    "dbig.showrelax(1000,100)"
   ]
  }
 ],
 "metadata": {
  "kernelspec": {
   "display_name": "Python 3",
   "language": "python",
   "name": "python3"
  },
  "language_info": {
   "codemirror_mode": {
    "name": "ipython",
    "version": 3
   },
   "file_extension": ".py",
   "mimetype": "text/x-python",
   "name": "python",
   "nbconvert_exporter": "python",
   "pygments_lexer": "ipython3",
   "version": "3.8.8"
  }
 },
 "nbformat": 4,
 "nbformat_minor": 5
}
