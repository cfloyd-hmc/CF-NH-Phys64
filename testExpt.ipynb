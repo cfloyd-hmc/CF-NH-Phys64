{
 "cells": [
  {
   "cell_type": "code",
   "execution_count": 1,
   "id": "40bb7160",
   "metadata": {
    "tags": []
   },
   "outputs": [],
   "source": [
    "%matplotlib widget\n",
    "import numpy as np                  # This is the standard way of importing numpy\n",
    "import matplotlib.pyplot as plt     # and this is the usual way to load matplotlib\n",
    "import pandas as pd                 # Pandas is convenient for tabular data\n",
    "from matplotlib.animation import FuncAnimation\n",
    "import itertools\n",
    "from functools import total_ordering\n",
    "try:\n",
    "    from rich.progress import track\n",
    "except:\n",
    "    track = lambda x: x"
   ]
  },
  {
   "cell_type": "code",
   "execution_count": 2,
   "id": "2555dd27",
   "metadata": {
    "tags": []
   },
   "outputs": [],
   "source": [
    "@total_ordering #allows us to only implement lt and eq, imply gt, etc.\n",
    "class Disk:\n",
    "    def __init__(self, x:np.ndarray, v:np.ndarray, mass:float, radius:float, \n",
    "                 charge:float):\n",
    "        self.mass = mass\n",
    "        self.radius = radius\n",
    "        self.x = np.asarray(x) #x example: array([2, 4, 6)\n",
    "        self.v = np.asarray(v) #v example: array([1, -1, 1])\n",
    "        self.nDim = len(self.x)\n",
    "        if self.nDim != len(self.v):\n",
    "            raise Exception(\"Dimensions of velocity and position lists do not match.\")\n",
    "        self.charge = charge\n",
    "    \n",
    "    \n",
    "    def advance(self, t:float, L, F=None):\n",
    "        # apply old velocity (update position)\n",
    "        self.x += self.v * t\n",
    "        self.x = self.x % L\n",
    "        \n",
    "        if F: # apply force (update velocity)\n",
    "            # TODO: update self.v\n",
    "            pass\n",
    "    \n",
    "    #allowing comparisons between disk\n",
    "    def __lt__(self, other):\n",
    "        return self.x[0] < other.x[0]\n",
    "    \n",
    "    def __eq__(self, other):\n",
    "        return self.x[0] == other.x[0]\n",
    "    \n",
    "    @property\n",
    "    def speed(self):\n",
    "        return np.linalg.norm(self.v)\n",
    "    \n",
    "    @property\n",
    "    def KE(self):\n",
    "        return (1/2)*self.mass*(self.speed**2)\n"
   ]
  },
  {
   "cell_type": "code",
   "execution_count": 20,
   "id": "09435c60",
   "metadata": {
    "tags": []
   },
   "outputs": [],
   "source": [
    "class Expt:\n",
    "    def __init__(self, pPositions:list, pVelocities:list, pMass:float=3, pRadius:float=0.5, \n",
    "                 pCharge:float=1, dt:float=0.1, tmax:float=15, L:float=20):\n",
    "        # pPositions example: [ [1, 3], [2, 2] ]: two particles, at (1,3) and (2,2)\n",
    "        \n",
    "        # set time variables\n",
    "        self.t = 0\n",
    "        self.tmax = tmax\n",
    "        self.dt = dt\n",
    "        \n",
    "        # make the particle list\n",
    "        self.numParticles = len(pPositions)\n",
    "                \n",
    "        if len(pVelocities) != self.numParticles:\n",
    "            raise Exception(\"number of particles mismatched between position and velocity lists\")\n",
    "        \n",
    "        self.particles = [Disk(x=pPositions[i], v=pVelocities[i],mass=pMass,radius=pRadius, charge=pCharge)\n",
    "                          for i in range(self.numParticles)]\n",
    "        \n",
    "        self.nDim = self.particles[0].nDim\n",
    "        \n",
    "        #make the box bounds\n",
    "        self.L = L\n",
    "        \n",
    "    def nextFrame(self):\n",
    "        for p in self.particles: \n",
    "            p.advance(self.dt, self.L)\n",
    "        self.t += dt\n",
    "    \n",
    "    @property\n",
    "    def totalKE(self):\n",
    "        return sum(p.KE for p in self.particles)\n",
    "    \n",
    "    @property\n",
    "    def avgKE(self):\n",
    "        return self.totalKE / self.numParticles\n",
    "    \n",
    "    #TODO: implement animation. For inspiration, we might use the \"Relaxation method\" code?\n",
    "    #that seems like it would work well, but IDK yet. TODO TODO FIXME\n",
    "    \n",
    "    def showAnimation(self):\n",
    "        fig, ax = plt.subplots()              # create the figure\n",
    "        ax.set_xlim(0,self.L)              # and adjust axes limits and labels\n",
    "        ax.set_ylim(0,self.L)\n",
    "        ax.set_axis_off()\n",
    "        xvar = np.linspace(-1,1,1001)            # set the time values to use\n",
    "        line, = ax.plot(xvar,np.zeros_like(xvar), 'o')   # create the trace, saving in a variable\n",
    "                                              # Note the comma; the ax.plot call returns a list\n",
    "\n",
    "        def frame(n:int):\n",
    "            y = np.zeros_like(xvar)              # initialize a vector of y values\n",
    "            y += 0.5                          # start with the constant\n",
    "            for i in range(1, n+1, 2):\n",
    "                y -= 2 / (np.pi * i) * np.sin(2 * np.pi * i * xvar)\n",
    "            line.set_ydata(y)                 # update the trace\n",
    "            return line\n",
    "\n",
    "        ani = FuncAnimation(fig, frame, range(1, 80, 2), interval=100, blit=True)\n",
    "        ani.save(\"squarewave.gif\", fps=10, dpi=100)\n",
    "    \n",
    "    #idea: makeCopy() function that makes an identical experiment - might be useful to\n",
    "    #let us go to further times or something? idk\n",
    "    "
   ]
  },
  {
   "cell_type": "code",
   "execution_count": 21,
   "id": "671a6d95-679c-4567-8616-2255ae85e4ae",
   "metadata": {
    "tags": []
   },
   "outputs": [
    {
     "name": "stderr",
     "output_type": "stream",
     "text": [
      "MovieWriter ffmpeg unavailable; using Pillow instead.\n"
     ]
    },
    {
     "name": "stdout",
     "output_type": "stream",
     "text": [
      "1.5\n"
     ]
    },
    {
     "data": {
      "application/vnd.jupyter.widget-view+json": {
       "model_id": "da8940bb76e244b9b54a204a9809ae96",
       "version_major": 2,
       "version_minor": 0
      },
      "image/png": "[encoded data removed]",
      "text/html": [
       "\n",
       "            <div style=\"display: inline-block;\">\n",
       "                <div class=\"jupyter-widgets widget-label\" style=\"text-align: center;\">\n",
       "                    Figure\n",
       "                </div>\n",
       "                <img src='data:image/png;base64,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' width=640.0/>\n",
       "            </div>\n",
       "        "
      ],
      "text/plain": [
       "Canvas(toolbar=Toolbar(toolitems=[('Home', 'Reset original view', 'home', 'home'), ('Back', 'Back to previous …"
      ]
     },
     "metadata": {},
     "output_type": "display_data"
    }
   ],
   "source": [
    "pPosGrid = list(itertools.product(np.linspace(1,5,5), np.linspace(1,5,5)))\n",
    "pVelGrid = list(itertools.product(np.linspace(-1,1,5), np.linspace(-1,1,5)))\n",
    "\n",
    "e1 = Expt(pPositions=pPosGrid,pVelocities = pVelGrid)\n",
    "\n",
    "print(e1.avgKE)\n",
    "\n",
    "e1.showAnimation()\n"
   ]
  },
  {
   "cell_type": "code",
   "execution_count": 9,
   "id": "c4de5fed-2a0e-4898-b04c-1bd21d6ac220",
   "metadata": {
    "tags": []
   },
   "outputs": [],
   "source": [
    "plt.close(\"all\")"
   ]
  },
  {
   "cell_type": "code",
   "execution_count": 12,
   "id": "ee586a2b-9b1f-45f4-977f-f942c2b870f3",
   "metadata": {},
   "outputs": [
    {
     "data": {
      "text/plain": [
       "array([0., 0., 0., 0.])"
      ]
     },
     "execution_count": 12,
     "metadata": {},
     "output_type": "execute_result"
    }
   ],
   "source": [
    "np.zeros(4)"
   ]
  },
  {
   "cell_type": "code",
   "execution_count": null,
   "id": "6254dc2e-a44f-41fe-b0ac-dbf84a630a2d",
   "metadata": {},
   "outputs": [],
   "source": []
  },
  {
   "cell_type": "code",
   "execution_count": null,
   "id": "217c5930-0fa9-4948-b2ce-3a29a84945ec",
   "metadata": {
    "tags": []
   },
   "outputs": [],
   "source": [
    "d = Disk([2, 2], [3, 3], 1, 1, 1)\n",
    "d1 = Disk([3, 2], [3, 3], 1, 1, 1)\n",
    "\n",
    "print(d < d1)\n",
    "print(d == d1)\n",
    "print(d > d1)\n"
   ]
  },
  {
   "cell_type": "code",
   "execution_count": null,
   "id": "f9ad520c-31b3-4bd3-8c3c-34d031e6694a",
   "metadata": {
    "tags": []
   },
   "outputs": [],
   "source": [
    "#create and test an example disk\n",
    "p = Disk([1,1], [6,8], 3, 2, 1)\n",
    "print(p.speed)\n",
    "print(p.KE)\n",
    "print(p.x)\n",
    "p.advance(2, 20)\n",
    "print(p.speed)\n",
    "print(p.KE)\n",
    "print(p.x)\n",
    "p.advance(1, 20)\n",
    "print(p.speed)\n",
    "print(p.KE)\n",
    "print(p.x)"
   ]
  },
  {
   "cell_type": "code",
   "execution_count": null,
   "id": "8125d556-871f-446d-a75c-38c360447ec9",
   "metadata": {},
   "outputs": [],
   "source": []
  }
 ],
 "metadata": {
  "kernelspec": {
   "display_name": "Python 3 (ipykernel)",
   "language": "python",
   "name": "python3"
  },
  "language_info": {
   "codemirror_mode": {
    "name": "ipython",
    "version": 3
   },
   "file_extension": ".py",
   "mimetype": "text/x-python",
   "name": "python",
   "nbconvert_exporter": "python",
   "pygments_lexer": "ipython3",
   "version": "3.11.3"
  }
 },
 "nbformat": 4,
 "nbformat_minor": 5
}
