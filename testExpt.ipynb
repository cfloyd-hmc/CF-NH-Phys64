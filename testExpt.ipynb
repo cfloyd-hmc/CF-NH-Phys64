{
 "cells": [
  {
   "cell_type": "code",
   "execution_count": 1,
   "id": "40bb7160",
   "metadata": {},
   "outputs": [],
   "source": [
    "%matplotlib notebook\n",
    "import numpy as np                  # This is the standard way of importing numpy\n",
    "import matplotlib.pyplot as plt     # and this is the usual way to load matplotlib\n",
    "import pandas as pd                 # Pandas is convenient for tabular data"
   ]
  },
  {
   "cell_type": "code",
   "execution_count": null,
   "id": "1def2af6",
   "metadata": {},
   "outputs": [],
   "source": [
    "class Disk:\n",
    "    def __init__(self, x:list, v:list, mass:float=3, radius:float=2,\n",
    "                self.charge:float=1)\n",
    "        self.mass = mass\n",
    "        self.radius = radius\n",
    "        self.x = x #note: x, v python lists\n",
    "        self.v = v\n",
    "        self.nDim = len(self.x)\n",
    "        if self.nDim != len(self.v):\n",
    "            raise Exception(\"Dimensions of velocity and position arrays do not match.\")\n",
    "        self.charge = charge\n",
    "    \n",
    "    def self.advance(self, t): #moves forward in a straight line\n",
    "        x += v*t #TODO: wrap around walls?\n",
    "    \n",
    "    \n"
   ]
  },
  {
   "cell_type": "code",
   "execution_count": null,
   "id": "6f0d7cdf",
   "metadata": {},
   "outputs": [],
   "source": [
    "class Expt:\n",
    "    def __init__(self):\n",
    "        \n",
    "    \n",
    "    \n",
    "    "
   ]
  },
  {
   "cell_type": "code",
   "execution_count": 7,
   "id": "c6d8969e",
   "metadata": {},
   "outputs": [
    {
     "data": {
      "text/plain": [
       "float"
      ]
     },
     "execution_count": 7,
     "metadata": {},
     "output_type": "execute_result"
    }
   ],
   "source": [
    "type(2.3)"
   ]
  },
  {
   "cell_type": "code",
   "execution_count": null,
   "id": "c8121ed1",
   "metadata": {},
   "outputs": [],
   "source": []
  }
 ],
 "metadata": {
  "kernelspec": {
   "display_name": "Python 3",
   "language": "python",
   "name": "python3"
  },
  "language_info": {
   "codemirror_mode": {
    "name": "ipython",
    "version": 3
   },
   "file_extension": ".py",
   "mimetype": "text/x-python",
   "name": "python",
   "nbconvert_exporter": "python",
   "pygments_lexer": "ipython3",
   "version": "3.8.8"
  }
 },
 "nbformat": 4,
 "nbformat_minor": 5
}
